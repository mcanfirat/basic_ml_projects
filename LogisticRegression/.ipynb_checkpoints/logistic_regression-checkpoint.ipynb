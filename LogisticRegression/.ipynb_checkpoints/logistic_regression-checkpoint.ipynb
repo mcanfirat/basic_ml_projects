{
 "cells": [
  {
   "cell_type": "code",
   "execution_count": 2,
   "id": "70324485-8281-4a01-b8af-c7701e8a4197",
   "metadata": {},
   "outputs": [],
   "source": [
    "import numpy as np\n",
    "import pandas as pd\n",
    "import seaborn as sns\n",
    "import matplotlib.pyplot as plt\n",
    "\n",
    "import warnings\n",
    "warnings.filterwarnings('ignore')\n",
    "\n",
    "%matplotlib inline"
   ]
  },
  {
   "cell_type": "code",
   "execution_count": 3,
   "id": "dcbffad7-39b0-4f4d-aa8e-38cd810fe382",
   "metadata": {},
   "outputs": [
    {
     "data": {
      "text/html": [
       "<div>\n",
       "<style scoped>\n",
       "    .dataframe tbody tr th:only-of-type {\n",
       "        vertical-align: middle;\n",
       "    }\n",
       "\n",
       "    .dataframe tbody tr th {\n",
       "        vertical-align: top;\n",
       "    }\n",
       "\n",
       "    .dataframe thead th {\n",
       "        text-align: right;\n",
       "    }\n",
       "</style>\n",
       "<table border=\"1\" class=\"dataframe\">\n",
       "  <thead>\n",
       "    <tr style=\"text-align: right;\">\n",
       "      <th></th>\n",
       "      <th>PassengerId</th>\n",
       "      <th>Survived</th>\n",
       "      <th>Pclass</th>\n",
       "      <th>Name</th>\n",
       "      <th>Sex</th>\n",
       "      <th>Age</th>\n",
       "      <th>SibSp</th>\n",
       "      <th>Parch</th>\n",
       "      <th>Ticket</th>\n",
       "      <th>Fare</th>\n",
       "      <th>Cabin</th>\n",
       "      <th>Embarked</th>\n",
       "    </tr>\n",
       "  </thead>\n",
       "  <tbody>\n",
       "    <tr>\n",
       "      <th>0</th>\n",
       "      <td>1</td>\n",
       "      <td>0</td>\n",
       "      <td>3</td>\n",
       "      <td>Braund, Mr. Owen Harris</td>\n",
       "      <td>male</td>\n",
       "      <td>22.0</td>\n",
       "      <td>1</td>\n",
       "      <td>0</td>\n",
       "      <td>A/5 21171</td>\n",
       "      <td>7.2500</td>\n",
       "      <td>NaN</td>\n",
       "      <td>S</td>\n",
       "    </tr>\n",
       "    <tr>\n",
       "      <th>1</th>\n",
       "      <td>2</td>\n",
       "      <td>1</td>\n",
       "      <td>1</td>\n",
       "      <td>Cumings, Mrs. John Bradley (Florence Briggs Th...</td>\n",
       "      <td>female</td>\n",
       "      <td>38.0</td>\n",
       "      <td>1</td>\n",
       "      <td>0</td>\n",
       "      <td>PC 17599</td>\n",
       "      <td>71.2833</td>\n",
       "      <td>C85</td>\n",
       "      <td>C</td>\n",
       "    </tr>\n",
       "    <tr>\n",
       "      <th>2</th>\n",
       "      <td>3</td>\n",
       "      <td>1</td>\n",
       "      <td>3</td>\n",
       "      <td>Heikkinen, Miss. Laina</td>\n",
       "      <td>female</td>\n",
       "      <td>26.0</td>\n",
       "      <td>0</td>\n",
       "      <td>0</td>\n",
       "      <td>STON/O2. 3101282</td>\n",
       "      <td>7.9250</td>\n",
       "      <td>NaN</td>\n",
       "      <td>S</td>\n",
       "    </tr>\n",
       "    <tr>\n",
       "      <th>3</th>\n",
       "      <td>4</td>\n",
       "      <td>1</td>\n",
       "      <td>1</td>\n",
       "      <td>Futrelle, Mrs. Jacques Heath (Lily May Peel)</td>\n",
       "      <td>female</td>\n",
       "      <td>35.0</td>\n",
       "      <td>1</td>\n",
       "      <td>0</td>\n",
       "      <td>113803</td>\n",
       "      <td>53.1000</td>\n",
       "      <td>C123</td>\n",
       "      <td>S</td>\n",
       "    </tr>\n",
       "    <tr>\n",
       "      <th>4</th>\n",
       "      <td>5</td>\n",
       "      <td>0</td>\n",
       "      <td>3</td>\n",
       "      <td>Allen, Mr. William Henry</td>\n",
       "      <td>male</td>\n",
       "      <td>35.0</td>\n",
       "      <td>0</td>\n",
       "      <td>0</td>\n",
       "      <td>373450</td>\n",
       "      <td>8.0500</td>\n",
       "      <td>NaN</td>\n",
       "      <td>S</td>\n",
       "    </tr>\n",
       "  </tbody>\n",
       "</table>\n",
       "</div>"
      ],
      "text/plain": [
       "   PassengerId  Survived  Pclass  \\\n",
       "0            1         0       3   \n",
       "1            2         1       1   \n",
       "2            3         1       3   \n",
       "3            4         1       1   \n",
       "4            5         0       3   \n",
       "\n",
       "                                                Name     Sex   Age  SibSp  \\\n",
       "0                            Braund, Mr. Owen Harris    male  22.0      1   \n",
       "1  Cumings, Mrs. John Bradley (Florence Briggs Th...  female  38.0      1   \n",
       "2                             Heikkinen, Miss. Laina  female  26.0      0   \n",
       "3       Futrelle, Mrs. Jacques Heath (Lily May Peel)  female  35.0      1   \n",
       "4                           Allen, Mr. William Henry    male  35.0      0   \n",
       "\n",
       "   Parch            Ticket     Fare Cabin Embarked  \n",
       "0      0         A/5 21171   7.2500   NaN        S  \n",
       "1      0          PC 17599  71.2833   C85        C  \n",
       "2      0  STON/O2. 3101282   7.9250   NaN        S  \n",
       "3      0            113803  53.1000  C123        S  \n",
       "4      0            373450   8.0500   NaN        S  "
      ]
     },
     "execution_count": 3,
     "metadata": {},
     "output_type": "execute_result"
    }
   ],
   "source": [
    "train_df = pd.read_csv('data/train.csv')\n",
    "train_df.head()"
   ]
  },
  {
   "cell_type": "markdown",
   "id": "bb177611-9689-4f92-a55c-e23a4f984aae",
   "metadata": {},
   "source": [
    "#quality of data"
   ]
  },
  {
   "cell_type": "code",
   "execution_count": 4,
   "id": "7d0a08d6-c114-4805-a6d3-14798dc883d3",
   "metadata": {},
   "outputs": [
    {
     "data": {
      "text/plain": [
       "PassengerId      0\n",
       "Survived         0\n",
       "Pclass           0\n",
       "Name             0\n",
       "Sex              0\n",
       "Age            177\n",
       "SibSp            0\n",
       "Parch            0\n",
       "Ticket           0\n",
       "Fare             0\n",
       "Cabin          687\n",
       "Embarked         2\n",
       "dtype: int64"
      ]
     },
     "execution_count": 4,
     "metadata": {},
     "output_type": "execute_result"
    }
   ],
   "source": [
    "train_df.isnull().sum()"
   ]
  },
  {
   "cell_type": "markdown",
   "id": "cb840003-4d96-4ca4-97c3-a32b6e5d5659",
   "metadata": {},
   "source": [
    "#null age data"
   ]
  },
  {
   "cell_type": "code",
   "execution_count": 11,
   "id": "bc4f2b0b-717f-4970-90ff-2c7af7a5429e",
   "metadata": {},
   "outputs": [
    {
     "data": {
      "text/plain": [
       "19.865319865319865"
      ]
     },
     "execution_count": 11,
     "metadata": {},
     "output_type": "execute_result"
    }
   ],
   "source": [
    "train_df['Age'].isnull().sum()/train_df.shape[0]*100"
   ]
  },
  {
   "cell_type": "code",
   "execution_count": 13,
   "id": "08b9766c-0669-46b9-a784-c5eae936902b",
   "metadata": {},
   "outputs": [
    {
     "data": {
      "image/png": "[encoded data removed]",
      "text/plain": [
       "<Figure size 640x480 with 1 Axes>"
      ]
     },
     "metadata": {},
     "output_type": "display_data"
    }
   ],
   "source": [
    "ax = train_df['Age'].hist(bins=15,density=True,stacked=True,alpha=0.7)\n",
    "\n",
    "train_df['Age'].plot(kind='density')\n",
    "\n",
    "ax.set(xlabel='Age')\n",
    "plt.xlim(0,90)\n",
    "plt.grid()\n",
    "plt.show()"
   ]
  },
  {
   "cell_type": "code",
   "execution_count": 15,
   "id": "83d0e39e-be6f-4ce6-8390-1d830b300690",
   "metadata": {},
   "outputs": [
    {
     "data": {
      "text/plain": [
       "29.69911764705882"
      ]
     },
     "execution_count": 15,
     "metadata": {},
     "output_type": "execute_result"
    }
   ],
   "source": [
    "train_df['Age'].mean(skipna=True)"
   ]
  },
  {
   "cell_type": "code",
   "execution_count": 16,
   "id": "63a6a1d3-5c20-4d13-9066-8489b516a36e",
   "metadata": {},
   "outputs": [
    {
     "data": {
      "text/plain": [
       "28.0"
      ]
     },
     "execution_count": 16,
     "metadata": {},
     "output_type": "execute_result"
    }
   ],
   "source": [
    "train_df['Age'].median(skipna=True)"
   ]
  },
  {
   "cell_type": "markdown",
   "id": "01a9a2db-1a3c-4d5b-a59d-b0efe2c5c71c",
   "metadata": {},
   "source": [
    "#null cabin data"
   ]
  },
  {
   "cell_type": "code",
   "execution_count": 18,
   "id": "99710db8-7529-4748-8230-282be0f98d8c",
   "metadata": {},
   "outputs": [
    {
     "data": {
      "text/plain": [
       "77.10437710437711"
      ]
     },
     "execution_count": 18,
     "metadata": {},
     "output_type": "execute_result"
    }
   ],
   "source": [
    "train_df['Cabin'].isnull().sum()/train_df.shape[0]*100"
   ]
  },
  {
   "cell_type": "markdown",
   "id": "35c8a588-d9fc-454c-90f3-a9a3978276a4",
   "metadata": {},
   "source": [
    "#null embarked data"
   ]
  },
  {
   "cell_type": "code",
   "execution_count": 20,
   "id": "472f53ef-55c7-475b-832c-7f774d24cbd5",
   "metadata": {},
   "outputs": [
    {
     "data": {
      "text/plain": [
       "0.22446689113355783"
      ]
     },
     "execution_count": 20,
     "metadata": {},
     "output_type": "execute_result"
    }
   ],
   "source": [
    "train_df['Embarked'].isnull().sum()/train_df.shape[0]*100"
   ]
  },
  {
   "cell_type": "code",
   "execution_count": 21,
   "id": "a5fd2b26-af3d-43b0-96e6-6cd7b82993f3",
   "metadata": {},
   "outputs": [
    {
     "data": {
      "text/plain": [
       "S    72.278339\n",
       "C    18.855219\n",
       "Q     8.641975\n",
       "Name: Embarked, dtype: float64"
      ]
     },
     "execution_count": 21,
     "metadata": {},
     "output_type": "execute_result"
    }
   ],
   "source": [
    "train_df['Embarked'].value_counts()/train_df.shape[0]*100"
   ]
  },
  {
   "cell_type": "code",
   "execution_count": 24,
   "id": "3562770f-c913-4ac4-8306-30aa02f28fc2",
   "metadata": {},
   "outputs": [
    {
     "data": {
      "image/png": "[encoded data removed]",
      "text/plain": [
       "<Figure size 640x480 with 1 Axes>"
      ]
     },
     "metadata": {},
     "output_type": "display_data"
    }
   ],
   "source": [
    "sns.countplot(x='Embarked',data=train_df,palette='Set1');"
   ]
  },
  {
   "cell_type": "code",
   "execution_count": 26,
   "id": "7fb3c988-759c-4252-9f8e-6d73a8059df4",
   "metadata": {},
   "outputs": [
    {
     "data": {
      "text/plain": [
       "'S'"
      ]
     },
     "execution_count": 26,
     "metadata": {},
     "output_type": "execute_result"
    }
   ],
   "source": [
    "train_df['Embarked'].value_counts().idxmax()"
   ]
  },
  {
   "cell_type": "code",
   "execution_count": 27,
   "id": "87269e7e-6e86-4b1b-8808-b22944462932",
   "metadata": {},
   "outputs": [],
   "source": [
    "#changing C Embarked and Q Embarked with S Embarked\n",
    "#changing Age with median\n",
    "#deleting Cabin column\n",
    "\n",
    "train_data = train_df.copy()\n",
    "\n",
    "train_data['Embarked'].fillna(train_df['Embarked'].value_counts().idxmax(),inplace=True)\n",
    "\n",
    "train_data['Age'].fillna(train_df['Age'].median(skipna=True),inplace=True)\n",
    "\n",
    "train_data.drop('Cabin',axis=1,inplace=True)"
   ]
  },
  {
   "cell_type": "code",
   "execution_count": 28,
   "id": "43fbd9d0-cba4-405f-8ece-1a878a75da4c",
   "metadata": {},
   "outputs": [
    {
     "data": {
      "text/plain": [
       "PassengerId    0\n",
       "Survived       0\n",
       "Pclass         0\n",
       "Name           0\n",
       "Sex            0\n",
       "Age            0\n",
       "SibSp          0\n",
       "Parch          0\n",
       "Ticket         0\n",
       "Fare           0\n",
       "Embarked       0\n",
       "dtype: int64"
      ]
     },
     "execution_count": 28,
     "metadata": {},
     "output_type": "execute_result"
    }
   ],
   "source": [
    "train_data.isnull().sum()"
   ]
  },
  {
   "cell_type": "code",
   "execution_count": 29,
   "id": "229ad50d-a616-47e0-b655-584ce5d01627",
   "metadata": {},
   "outputs": [
    {
     "data": {
      "text/html": [
       "<div>\n",
       "<style scoped>\n",
       "    .dataframe tbody tr th:only-of-type {\n",
       "        vertical-align: middle;\n",
       "    }\n",
       "\n",
       "    .dataframe tbody tr th {\n",
       "        vertical-align: top;\n",
       "    }\n",
       "\n",
       "    .dataframe thead th {\n",
       "        text-align: right;\n",
       "    }\n",
       "</style>\n",
       "<table border=\"1\" class=\"dataframe\">\n",
       "  <thead>\n",
       "    <tr style=\"text-align: right;\">\n",
       "      <th></th>\n",
       "      <th>PassengerId</th>\n",
       "      <th>Survived</th>\n",
       "      <th>Pclass</th>\n",
       "      <th>Name</th>\n",
       "      <th>Sex</th>\n",
       "      <th>Age</th>\n",
       "      <th>SibSp</th>\n",
       "      <th>Parch</th>\n",
       "      <th>Ticket</th>\n",
       "      <th>Fare</th>\n",
       "      <th>Embarked</th>\n",
       "    </tr>\n",
       "  </thead>\n",
       "  <tbody>\n",
       "    <tr>\n",
       "      <th>0</th>\n",
       "      <td>1</td>\n",
       "      <td>0</td>\n",
       "      <td>3</td>\n",
       "      <td>Braund, Mr. Owen Harris</td>\n",
       "      <td>male</td>\n",
       "      <td>22.0</td>\n",
       "      <td>1</td>\n",
       "      <td>0</td>\n",
       "      <td>A/5 21171</td>\n",
       "      <td>7.2500</td>\n",
       "      <td>S</td>\n",
       "    </tr>\n",
       "    <tr>\n",
       "      <th>1</th>\n",
       "      <td>2</td>\n",
       "      <td>1</td>\n",
       "      <td>1</td>\n",
       "      <td>Cumings, Mrs. John Bradley (Florence Briggs Th...</td>\n",
       "      <td>female</td>\n",
       "      <td>38.0</td>\n",
       "      <td>1</td>\n",
       "      <td>0</td>\n",
       "      <td>PC 17599</td>\n",
       "      <td>71.2833</td>\n",
       "      <td>C</td>\n",
       "    </tr>\n",
       "    <tr>\n",
       "      <th>2</th>\n",
       "      <td>3</td>\n",
       "      <td>1</td>\n",
       "      <td>3</td>\n",
       "      <td>Heikkinen, Miss. Laina</td>\n",
       "      <td>female</td>\n",
       "      <td>26.0</td>\n",
       "      <td>0</td>\n",
       "      <td>0</td>\n",
       "      <td>STON/O2. 3101282</td>\n",
       "      <td>7.9250</td>\n",
       "      <td>S</td>\n",
       "    </tr>\n",
       "    <tr>\n",
       "      <th>3</th>\n",
       "      <td>4</td>\n",
       "      <td>1</td>\n",
       "      <td>1</td>\n",
       "      <td>Futrelle, Mrs. Jacques Heath (Lily May Peel)</td>\n",
       "      <td>female</td>\n",
       "      <td>35.0</td>\n",
       "      <td>1</td>\n",
       "      <td>0</td>\n",
       "      <td>113803</td>\n",
       "      <td>53.1000</td>\n",
       "      <td>S</td>\n",
       "    </tr>\n",
       "    <tr>\n",
       "      <th>4</th>\n",
       "      <td>5</td>\n",
       "      <td>0</td>\n",
       "      <td>3</td>\n",
       "      <td>Allen, Mr. William Henry</td>\n",
       "      <td>male</td>\n",
       "      <td>35.0</td>\n",
       "      <td>0</td>\n",
       "      <td>0</td>\n",
       "      <td>373450</td>\n",
       "      <td>8.0500</td>\n",
       "      <td>S</td>\n",
       "    </tr>\n",
       "  </tbody>\n",
       "</table>\n",
       "</div>"
      ],
      "text/plain": [
       "   PassengerId  Survived  Pclass  \\\n",
       "0            1         0       3   \n",
       "1            2         1       1   \n",
       "2            3         1       3   \n",
       "3            4         1       1   \n",
       "4            5         0       3   \n",
       "\n",
       "                                                Name     Sex   Age  SibSp  \\\n",
       "0                            Braund, Mr. Owen Harris    male  22.0      1   \n",
       "1  Cumings, Mrs. John Bradley (Florence Briggs Th...  female  38.0      1   \n",
       "2                             Heikkinen, Miss. Laina  female  26.0      0   \n",
       "3       Futrelle, Mrs. Jacques Heath (Lily May Peel)  female  35.0      1   \n",
       "4                           Allen, Mr. William Henry    male  35.0      0   \n",
       "\n",
       "   Parch            Ticket     Fare Embarked  \n",
       "0      0         A/5 21171   7.2500        S  \n",
       "1      0          PC 17599  71.2833        C  \n",
       "2      0  STON/O2. 3101282   7.9250        S  \n",
       "3      0            113803  53.1000        S  \n",
       "4      0            373450   8.0500        S  "
      ]
     },
     "execution_count": 29,
     "metadata": {},
     "output_type": "execute_result"
    }
   ],
   "source": [
    "train_data.head()"
   ]
  },
  {
   "cell_type": "code",
   "execution_count": 30,
   "id": "8dfe92bc-ef61-4332-9c4d-10fdf8464d66",
   "metadata": {},
   "outputs": [],
   "source": [
    "train_data['SoloTraveler'] = np.where((train_data['SibSp']+train_data['Parch'])>0,0,1)"
   ]
  },
  {
   "cell_type": "code",
   "execution_count": 31,
   "id": "646f85be-a901-472c-8073-9f74e54c4c3f",
   "metadata": {},
   "outputs": [],
   "source": [
    "train_data.drop('SibSp',axis=1,inplace=True)\n",
    "train_data.drop('Parch',axis=1,inplace=True)"
   ]
  },
  {
   "cell_type": "code",
   "execution_count": 32,
   "id": "c7349fe4-9098-47dd-9300-554650c19024",
   "metadata": {},
   "outputs": [
    {
     "data": {
      "text/html": [
       "<div>\n",
       "<style scoped>\n",
       "    .dataframe tbody tr th:only-of-type {\n",
       "        vertical-align: middle;\n",
       "    }\n",
       "\n",
       "    .dataframe tbody tr th {\n",
       "        vertical-align: top;\n",
       "    }\n",
       "\n",
       "    .dataframe thead th {\n",
       "        text-align: right;\n",
       "    }\n",
       "</style>\n",
       "<table border=\"1\" class=\"dataframe\">\n",
       "  <thead>\n",
       "    <tr style=\"text-align: right;\">\n",
       "      <th></th>\n",
       "      <th>PassengerId</th>\n",
       "      <th>Survived</th>\n",
       "      <th>Pclass</th>\n",
       "      <th>Name</th>\n",
       "      <th>Sex</th>\n",
       "      <th>Age</th>\n",
       "      <th>Ticket</th>\n",
       "      <th>Fare</th>\n",
       "      <th>Embarked</th>\n",
       "      <th>SoloTraveler</th>\n",
       "    </tr>\n",
       "  </thead>\n",
       "  <tbody>\n",
       "    <tr>\n",
       "      <th>0</th>\n",
       "      <td>1</td>\n",
       "      <td>0</td>\n",
       "      <td>3</td>\n",
       "      <td>Braund, Mr. Owen Harris</td>\n",
       "      <td>male</td>\n",
       "      <td>22.0</td>\n",
       "      <td>A/5 21171</td>\n",
       "      <td>7.2500</td>\n",
       "      <td>S</td>\n",
       "      <td>0</td>\n",
       "    </tr>\n",
       "    <tr>\n",
       "      <th>1</th>\n",
       "      <td>2</td>\n",
       "      <td>1</td>\n",
       "      <td>1</td>\n",
       "      <td>Cumings, Mrs. John Bradley (Florence Briggs Th...</td>\n",
       "      <td>female</td>\n",
       "      <td>38.0</td>\n",
       "      <td>PC 17599</td>\n",
       "      <td>71.2833</td>\n",
       "      <td>C</td>\n",
       "      <td>0</td>\n",
       "    </tr>\n",
       "    <tr>\n",
       "      <th>2</th>\n",
       "      <td>3</td>\n",
       "      <td>1</td>\n",
       "      <td>3</td>\n",
       "      <td>Heikkinen, Miss. Laina</td>\n",
       "      <td>female</td>\n",
       "      <td>26.0</td>\n",
       "      <td>STON/O2. 3101282</td>\n",
       "      <td>7.9250</td>\n",
       "      <td>S</td>\n",
       "      <td>1</td>\n",
       "    </tr>\n",
       "    <tr>\n",
       "      <th>3</th>\n",
       "      <td>4</td>\n",
       "      <td>1</td>\n",
       "      <td>1</td>\n",
       "      <td>Futrelle, Mrs. Jacques Heath (Lily May Peel)</td>\n",
       "      <td>female</td>\n",
       "      <td>35.0</td>\n",
       "      <td>113803</td>\n",
       "      <td>53.1000</td>\n",
       "      <td>S</td>\n",
       "      <td>0</td>\n",
       "    </tr>\n",
       "    <tr>\n",
       "      <th>4</th>\n",
       "      <td>5</td>\n",
       "      <td>0</td>\n",
       "      <td>3</td>\n",
       "      <td>Allen, Mr. William Henry</td>\n",
       "      <td>male</td>\n",
       "      <td>35.0</td>\n",
       "      <td>373450</td>\n",
       "      <td>8.0500</td>\n",
       "      <td>S</td>\n",
       "      <td>1</td>\n",
       "    </tr>\n",
       "  </tbody>\n",
       "</table>\n",
       "</div>"
      ],
      "text/plain": [
       "   PassengerId  Survived  Pclass  \\\n",
       "0            1         0       3   \n",
       "1            2         1       1   \n",
       "2            3         1       3   \n",
       "3            4         1       1   \n",
       "4            5         0       3   \n",
       "\n",
       "                                                Name     Sex   Age  \\\n",
       "0                            Braund, Mr. Owen Harris    male  22.0   \n",
       "1  Cumings, Mrs. John Bradley (Florence Briggs Th...  female  38.0   \n",
       "2                             Heikkinen, Miss. Laina  female  26.0   \n",
       "3       Futrelle, Mrs. Jacques Heath (Lily May Peel)  female  35.0   \n",
       "4                           Allen, Mr. William Henry    male  35.0   \n",
       "\n",
       "             Ticket     Fare Embarked  SoloTraveler  \n",
       "0         A/5 21171   7.2500        S             0  \n",
       "1          PC 17599  71.2833        C             0  \n",
       "2  STON/O2. 3101282   7.9250        S             1  \n",
       "3            113803  53.1000        S             0  \n",
       "4            373450   8.0500        S             1  "
      ]
     },
     "execution_count": 32,
     "metadata": {},
     "output_type": "execute_result"
    }
   ],
   "source": [
    "train_data.head()"
   ]
  },
  {
   "cell_type": "markdown",
   "id": "961acd66-738e-4c6b-8a15-48c422819a82",
   "metadata": {},
   "source": [
    "#encode the categorical variables"
   ]
  },
  {
   "cell_type": "code",
   "execution_count": 34,
   "id": "4aa87834-93e4-4854-97b6-c94b4eee3ff7",
   "metadata": {},
   "outputs": [],
   "source": [
    "train_data = pd.get_dummies(train_data,columns= ['Sex','Embarked','Pclass'],drop_first=True)"
   ]
  },
  {
   "cell_type": "code",
   "execution_count": 35,
   "id": "01b90753-a75e-4897-ae09-984648b13fd8",
   "metadata": {},
   "outputs": [
    {
     "data": {
      "text/html": [
       "<div>\n",
       "<style scoped>\n",
       "    .dataframe tbody tr th:only-of-type {\n",
       "        vertical-align: middle;\n",
       "    }\n",
       "\n",
       "    .dataframe tbody tr th {\n",
       "        vertical-align: top;\n",
       "    }\n",
       "\n",
       "    .dataframe thead th {\n",
       "        text-align: right;\n",
       "    }\n",
       "</style>\n",
       "<table border=\"1\" class=\"dataframe\">\n",
       "  <thead>\n",
       "    <tr style=\"text-align: right;\">\n",
       "      <th></th>\n",
       "      <th>PassengerId</th>\n",
       "      <th>Survived</th>\n",
       "      <th>Name</th>\n",
       "      <th>Age</th>\n",
       "      <th>Ticket</th>\n",
       "      <th>Fare</th>\n",
       "      <th>SoloTraveler</th>\n",
       "      <th>Sex_male</th>\n",
       "      <th>Embarked_Q</th>\n",
       "      <th>Embarked_S</th>\n",
       "      <th>Pclass_2</th>\n",
       "      <th>Pclass_3</th>\n",
       "    </tr>\n",
       "  </thead>\n",
       "  <tbody>\n",
       "    <tr>\n",
       "      <th>0</th>\n",
       "      <td>1</td>\n",
       "      <td>0</td>\n",
       "      <td>Braund, Mr. Owen Harris</td>\n",
       "      <td>22.0</td>\n",
       "      <td>A/5 21171</td>\n",
       "      <td>7.2500</td>\n",
       "      <td>0</td>\n",
       "      <td>1</td>\n",
       "      <td>0</td>\n",
       "      <td>1</td>\n",
       "      <td>0</td>\n",
       "      <td>1</td>\n",
       "    </tr>\n",
       "    <tr>\n",
       "      <th>1</th>\n",
       "      <td>2</td>\n",
       "      <td>1</td>\n",
       "      <td>Cumings, Mrs. John Bradley (Florence Briggs Th...</td>\n",
       "      <td>38.0</td>\n",
       "      <td>PC 17599</td>\n",
       "      <td>71.2833</td>\n",
       "      <td>0</td>\n",
       "      <td>0</td>\n",
       "      <td>0</td>\n",
       "      <td>0</td>\n",
       "      <td>0</td>\n",
       "      <td>0</td>\n",
       "    </tr>\n",
       "    <tr>\n",
       "      <th>2</th>\n",
       "      <td>3</td>\n",
       "      <td>1</td>\n",
       "      <td>Heikkinen, Miss. Laina</td>\n",
       "      <td>26.0</td>\n",
       "      <td>STON/O2. 3101282</td>\n",
       "      <td>7.9250</td>\n",
       "      <td>1</td>\n",
       "      <td>0</td>\n",
       "      <td>0</td>\n",
       "      <td>1</td>\n",
       "      <td>0</td>\n",
       "      <td>1</td>\n",
       "    </tr>\n",
       "    <tr>\n",
       "      <th>3</th>\n",
       "      <td>4</td>\n",
       "      <td>1</td>\n",
       "      <td>Futrelle, Mrs. Jacques Heath (Lily May Peel)</td>\n",
       "      <td>35.0</td>\n",
       "      <td>113803</td>\n",
       "      <td>53.1000</td>\n",
       "      <td>0</td>\n",
       "      <td>0</td>\n",
       "      <td>0</td>\n",
       "      <td>1</td>\n",
       "      <td>0</td>\n",
       "      <td>0</td>\n",
       "    </tr>\n",
       "    <tr>\n",
       "      <th>4</th>\n",
       "      <td>5</td>\n",
       "      <td>0</td>\n",
       "      <td>Allen, Mr. William Henry</td>\n",
       "      <td>35.0</td>\n",
       "      <td>373450</td>\n",
       "      <td>8.0500</td>\n",
       "      <td>1</td>\n",
       "      <td>1</td>\n",
       "      <td>0</td>\n",
       "      <td>1</td>\n",
       "      <td>0</td>\n",
       "      <td>1</td>\n",
       "    </tr>\n",
       "  </tbody>\n",
       "</table>\n",
       "</div>"
      ],
      "text/plain": [
       "   PassengerId  Survived                                               Name  \\\n",
       "0            1         0                            Braund, Mr. Owen Harris   \n",
       "1            2         1  Cumings, Mrs. John Bradley (Florence Briggs Th...   \n",
       "2            3         1                             Heikkinen, Miss. Laina   \n",
       "3            4         1       Futrelle, Mrs. Jacques Heath (Lily May Peel)   \n",
       "4            5         0                           Allen, Mr. William Henry   \n",
       "\n",
       "    Age            Ticket     Fare  SoloTraveler  Sex_male  Embarked_Q  \\\n",
       "0  22.0         A/5 21171   7.2500             0         1           0   \n",
       "1  38.0          PC 17599  71.2833             0         0           0   \n",
       "2  26.0  STON/O2. 3101282   7.9250             1         0           0   \n",
       "3  35.0            113803  53.1000             0         0           0   \n",
       "4  35.0            373450   8.0500             1         1           0   \n",
       "\n",
       "   Embarked_S  Pclass_2  Pclass_3  \n",
       "0           1         0         1  \n",
       "1           0         0         0  \n",
       "2           1         0         1  \n",
       "3           1         0         0  \n",
       "4           1         0         1  "
      ]
     },
     "execution_count": 35,
     "metadata": {},
     "output_type": "execute_result"
    }
   ],
   "source": [
    "train_data.head()"
   ]
  },
  {
   "cell_type": "code",
   "execution_count": 37,
   "id": "fe73213a-56db-4c82-863b-c7f4dabbcd01",
   "metadata": {},
   "outputs": [],
   "source": [
    "train_data.drop('PassengerId',axis=1,inplace=True)\n",
    "train_data.drop('Name',axis=1,inplace=True)\n",
    "train_data.drop('Ticket',axis=1,inplace=True)"
   ]
  },
  {
   "cell_type": "code",
   "execution_count": 38,
   "id": "9646beba-2d1f-4d6e-b651-77f1af1057f0",
   "metadata": {},
   "outputs": [
    {
     "data": {
      "text/html": [
       "<div>\n",
       "<style scoped>\n",
       "    .dataframe tbody tr th:only-of-type {\n",
       "        vertical-align: middle;\n",
       "    }\n",
       "\n",
       "    .dataframe tbody tr th {\n",
       "        vertical-align: top;\n",
       "    }\n",
       "\n",
       "    .dataframe thead th {\n",
       "        text-align: right;\n",
       "    }\n",
       "</style>\n",
       "<table border=\"1\" class=\"dataframe\">\n",
       "  <thead>\n",
       "    <tr style=\"text-align: right;\">\n",
       "      <th></th>\n",
       "      <th>Survived</th>\n",
       "      <th>Age</th>\n",
       "      <th>Fare</th>\n",
       "      <th>SoloTraveler</th>\n",
       "      <th>Sex_male</th>\n",
       "      <th>Embarked_Q</th>\n",
       "      <th>Embarked_S</th>\n",
       "      <th>Pclass_2</th>\n",
       "      <th>Pclass_3</th>\n",
       "    </tr>\n",
       "  </thead>\n",
       "  <tbody>\n",
       "    <tr>\n",
       "      <th>0</th>\n",
       "      <td>0</td>\n",
       "      <td>22.0</td>\n",
       "      <td>7.2500</td>\n",
       "      <td>0</td>\n",
       "      <td>1</td>\n",
       "      <td>0</td>\n",
       "      <td>1</td>\n",
       "      <td>0</td>\n",
       "      <td>1</td>\n",
       "    </tr>\n",
       "    <tr>\n",
       "      <th>1</th>\n",
       "      <td>1</td>\n",
       "      <td>38.0</td>\n",
       "      <td>71.2833</td>\n",
       "      <td>0</td>\n",
       "      <td>0</td>\n",
       "      <td>0</td>\n",
       "      <td>0</td>\n",
       "      <td>0</td>\n",
       "      <td>0</td>\n",
       "    </tr>\n",
       "    <tr>\n",
       "      <th>2</th>\n",
       "      <td>1</td>\n",
       "      <td>26.0</td>\n",
       "      <td>7.9250</td>\n",
       "      <td>1</td>\n",
       "      <td>0</td>\n",
       "      <td>0</td>\n",
       "      <td>1</td>\n",
       "      <td>0</td>\n",
       "      <td>1</td>\n",
       "    </tr>\n",
       "    <tr>\n",
       "      <th>3</th>\n",
       "      <td>1</td>\n",
       "      <td>35.0</td>\n",
       "      <td>53.1000</td>\n",
       "      <td>0</td>\n",
       "      <td>0</td>\n",
       "      <td>0</td>\n",
       "      <td>1</td>\n",
       "      <td>0</td>\n",
       "      <td>0</td>\n",
       "    </tr>\n",
       "    <tr>\n",
       "      <th>4</th>\n",
       "      <td>0</td>\n",
       "      <td>35.0</td>\n",
       "      <td>8.0500</td>\n",
       "      <td>1</td>\n",
       "      <td>1</td>\n",
       "      <td>0</td>\n",
       "      <td>1</td>\n",
       "      <td>0</td>\n",
       "      <td>1</td>\n",
       "    </tr>\n",
       "  </tbody>\n",
       "</table>\n",
       "</div>"
      ],
      "text/plain": [
       "   Survived   Age     Fare  SoloTraveler  Sex_male  Embarked_Q  Embarked_S  \\\n",
       "0         0  22.0   7.2500             0         1           0           1   \n",
       "1         1  38.0  71.2833             0         0           0           0   \n",
       "2         1  26.0   7.9250             1         0           0           1   \n",
       "3         1  35.0  53.1000             0         0           0           1   \n",
       "4         0  35.0   8.0500             1         1           0           1   \n",
       "\n",
       "   Pclass_2  Pclass_3  \n",
       "0         0         1  \n",
       "1         0         0  \n",
       "2         0         1  \n",
       "3         0         0  \n",
       "4         0         1  "
      ]
     },
     "execution_count": 38,
     "metadata": {},
     "output_type": "execute_result"
    }
   ],
   "source": [
    "train_data.head()"
   ]
  },
  {
   "cell_type": "markdown",
   "id": "db17c754-c00e-4217-904e-ead439ba4b76",
   "metadata": {},
   "source": [
    "#EDA Exploatory Data Analysis"
   ]
  },
  {
   "cell_type": "code",
   "execution_count": 40,
   "id": "a183e5db-95c6-40a9-9bc8-20c547e32770",
   "metadata": {},
   "outputs": [
    {
     "data": {
      "text/plain": [
       "(891, 9)"
      ]
     },
     "execution_count": 40,
     "metadata": {},
     "output_type": "execute_result"
    }
   ],
   "source": [
    "train_data.shape"
   ]
  },
  {
   "cell_type": "code",
   "execution_count": 41,
   "id": "c71843c5-f365-4c9a-bfd0-6c14af5ac713",
   "metadata": {},
   "outputs": [
    {
     "data": {
      "text/plain": [
       "891"
      ]
     },
     "execution_count": 41,
     "metadata": {},
     "output_type": "execute_result"
    }
   ],
   "source": [
    "train_data.shape[0]"
   ]
  },
  {
   "cell_type": "code",
   "execution_count": 42,
   "id": "c61776eb-48bc-40e1-948e-3769d157cb37",
   "metadata": {},
   "outputs": [
    {
     "data": {
      "text/plain": [
       "Index(['Survived', 'Age', 'Fare', 'SoloTraveler', 'Sex_male', 'Embarked_Q',\n",
       "       'Embarked_S', 'Pclass_2', 'Pclass_3'],\n",
       "      dtype='object')"
      ]
     },
     "execution_count": 42,
     "metadata": {},
     "output_type": "execute_result"
    }
   ],
   "source": [
    "col_names = train_data.columns\n",
    "col_names"
   ]
  },
  {
   "cell_type": "markdown",
   "id": "cf54e1d3-7e43-4506-968f-4122e3d887b4",
   "metadata": {},
   "source": [
    "#EDA for Age"
   ]
  },
  {
   "cell_type": "code",
   "execution_count": 67,
   "id": "9d99abe4-15fd-4fcc-bd4f-8130bdc4749a",
   "metadata": {},
   "outputs": [
    {
     "data": {
      "image/png": "[encoded data removed]",
      "text/plain": [
       "<Figure size 1500x800 with 1 Axes>"
      ]
     },
     "metadata": {},
     "output_type": "display_data"
    }
   ],
   "source": [
    "#graph size\n",
    "plt.figure(figsize=(15,8))\n",
    "\n",
    "#survived == 1\n",
    "ax = sns.kdeplot(train_data['Age'][train_data['Survived']==1], shade=True)\n",
    "\n",
    "#survived == 0 \n",
    "sns.kdeplot(train_data['Age'][train_data['Survived']==0], shade=True,color='yellow')\n",
    "\n",
    "plt.legend(['Survived','Died'])\n",
    "plt.title('Survived Died Graphic for Age')\n",
    "ax.set(xlabel='Age')\n",
    "plt.xlim(-15,85);"
   ]
  },
  {
   "cell_type": "markdown",
   "id": "900352ba-9455-4ec3-8547-15ddb4fbe86b",
   "metadata": {},
   "source": [
    "#EDA for Fare"
   ]
  },
  {
   "cell_type": "code",
   "execution_count": 65,
   "id": "f2960875-562a-4502-95e9-426cdcb2830e",
   "metadata": {},
   "outputs": [
    {
     "data": {
      "image/png": "[encoded data removed]",
      "text/plain": [
       "<Figure size 1500x800 with 1 Axes>"
      ]
     },
     "metadata": {},
     "output_type": "display_data"
    }
   ],
   "source": [
    "#graph size\n",
    "plt.figure(figsize=(15,8))\n",
    "\n",
    "#survived == 1\n",
    "ax = sns.kdeplot(train_data['Fare'][train_data['Survived']==1], shade=True)\n",
    "\n",
    "#survived == 0 \n",
    "sns.kdeplot(train_data['Fare'][train_data['Survived']==0], shade=True,color='yellow')\n",
    "\n",
    "plt.legend(['Survived','Died'])\n",
    "plt.title('Survived Died Graphic for Fare')\n",
    "ax.set(xlabel='Fare')\n",
    "plt.xlim(-60,300);"
   ]
  },
  {
   "cell_type": "markdown",
   "id": "17284749-b6f9-4151-8bdb-7ee84c25e114",
   "metadata": {},
   "source": [
    "#EDA for Passenger Class"
   ]
  },
  {
   "cell_type": "code",
   "execution_count": 69,
   "id": "495ece3d-02b3-4f47-a1cf-d969bf85065e",
   "metadata": {},
   "outputs": [
    {
     "data": {
      "image/png": "[encoded data removed]",
      "text/plain": [
       "<Figure size 640x480 with 1 Axes>"
      ]
     },
     "metadata": {},
     "output_type": "display_data"
    }
   ],
   "source": [
    "sns.barplot('Pclass','Survived',data=train_df);"
   ]
  },
  {
   "cell_type": "markdown",
   "id": "2972ab0b-47c7-4cbe-8828-77a1100aa4ed",
   "metadata": {},
   "source": [
    "#EDA for Solo Traveler or Family Traveler "
   ]
  },
  {
   "cell_type": "code",
   "execution_count": 72,
   "id": "7e8b826a-920a-44b2-aeb5-8ccf5a16aadc",
   "metadata": {},
   "outputs": [
    {
     "data": {
      "image/png": "[encoded data removed]",
      "text/plain": [
       "<Figure size 640x480 with 1 Axes>"
      ]
     },
     "metadata": {},
     "output_type": "display_data"
    }
   ],
   "source": [
    "sns.barplot('SoloTraveler','Survived',data=train_data);"
   ]
  },
  {
   "cell_type": "markdown",
   "id": "3e13a639-33e2-4378-95ae-c93195af6db1",
   "metadata": {},
   "source": [
    "#EDA for Sex"
   ]
  },
  {
   "cell_type": "code",
   "execution_count": 75,
   "id": "3942882f-a014-4daf-8f0f-d3421c065f52",
   "metadata": {},
   "outputs": [
    {
     "data": {
      "image/png": "[encoded data removed]",
      "text/plain": [
       "<Figure size 640x480 with 1 Axes>"
      ]
     },
     "metadata": {},
     "output_type": "display_data"
    }
   ],
   "source": [
    "sns.barplot('Sex','Survived',data=train_df);"
   ]
  },
  {
   "cell_type": "markdown",
   "id": "a8f622fc-5521-442b-8dac-3138766b8e5b",
   "metadata": {},
   "source": [
    "#INPUT OUTPUT"
   ]
  },
  {
   "cell_type": "code",
   "execution_count": 77,
   "id": "7d29db27-c2de-4c59-a578-9b9586963ec0",
   "metadata": {},
   "outputs": [],
   "source": [
    "y = train_data['Survived']\n",
    "\n",
    "train_data.drop('Survived',axis=1,inplace=True)"
   ]
  },
  {
   "cell_type": "code",
   "execution_count": 78,
   "id": "61d69c04-1884-4864-8cd1-f6af9a117642",
   "metadata": {},
   "outputs": [
    {
     "data": {
      "text/html": [
       "<div>\n",
       "<style scoped>\n",
       "    .dataframe tbody tr th:only-of-type {\n",
       "        vertical-align: middle;\n",
       "    }\n",
       "\n",
       "    .dataframe tbody tr th {\n",
       "        vertical-align: top;\n",
       "    }\n",
       "\n",
       "    .dataframe thead th {\n",
       "        text-align: right;\n",
       "    }\n",
       "</style>\n",
       "<table border=\"1\" class=\"dataframe\">\n",
       "  <thead>\n",
       "    <tr style=\"text-align: right;\">\n",
       "      <th></th>\n",
       "      <th>count</th>\n",
       "      <th>mean</th>\n",
       "      <th>std</th>\n",
       "      <th>min</th>\n",
       "      <th>25%</th>\n",
       "      <th>50%</th>\n",
       "      <th>75%</th>\n",
       "      <th>max</th>\n",
       "    </tr>\n",
       "  </thead>\n",
       "  <tbody>\n",
       "    <tr>\n",
       "      <th>Age</th>\n",
       "      <td>891.0</td>\n",
       "      <td>29.361582</td>\n",
       "      <td>13.019697</td>\n",
       "      <td>0.42</td>\n",
       "      <td>22.0000</td>\n",
       "      <td>28.0000</td>\n",
       "      <td>35.0</td>\n",
       "      <td>80.0000</td>\n",
       "    </tr>\n",
       "    <tr>\n",
       "      <th>Fare</th>\n",
       "      <td>891.0</td>\n",
       "      <td>32.204208</td>\n",
       "      <td>49.693429</td>\n",
       "      <td>0.00</td>\n",
       "      <td>7.9104</td>\n",
       "      <td>14.4542</td>\n",
       "      <td>31.0</td>\n",
       "      <td>512.3292</td>\n",
       "    </tr>\n",
       "    <tr>\n",
       "      <th>SoloTraveler</th>\n",
       "      <td>891.0</td>\n",
       "      <td>0.602694</td>\n",
       "      <td>0.489615</td>\n",
       "      <td>0.00</td>\n",
       "      <td>0.0000</td>\n",
       "      <td>1.0000</td>\n",
       "      <td>1.0</td>\n",
       "      <td>1.0000</td>\n",
       "    </tr>\n",
       "    <tr>\n",
       "      <th>Sex_male</th>\n",
       "      <td>891.0</td>\n",
       "      <td>0.647587</td>\n",
       "      <td>0.477990</td>\n",
       "      <td>0.00</td>\n",
       "      <td>0.0000</td>\n",
       "      <td>1.0000</td>\n",
       "      <td>1.0</td>\n",
       "      <td>1.0000</td>\n",
       "    </tr>\n",
       "    <tr>\n",
       "      <th>Embarked_Q</th>\n",
       "      <td>891.0</td>\n",
       "      <td>0.086420</td>\n",
       "      <td>0.281141</td>\n",
       "      <td>0.00</td>\n",
       "      <td>0.0000</td>\n",
       "      <td>0.0000</td>\n",
       "      <td>0.0</td>\n",
       "      <td>1.0000</td>\n",
       "    </tr>\n",
       "    <tr>\n",
       "      <th>Embarked_S</th>\n",
       "      <td>891.0</td>\n",
       "      <td>0.725028</td>\n",
       "      <td>0.446751</td>\n",
       "      <td>0.00</td>\n",
       "      <td>0.0000</td>\n",
       "      <td>1.0000</td>\n",
       "      <td>1.0</td>\n",
       "      <td>1.0000</td>\n",
       "    </tr>\n",
       "    <tr>\n",
       "      <th>Pclass_2</th>\n",
       "      <td>891.0</td>\n",
       "      <td>0.206510</td>\n",
       "      <td>0.405028</td>\n",
       "      <td>0.00</td>\n",
       "      <td>0.0000</td>\n",
       "      <td>0.0000</td>\n",
       "      <td>0.0</td>\n",
       "      <td>1.0000</td>\n",
       "    </tr>\n",
       "    <tr>\n",
       "      <th>Pclass_3</th>\n",
       "      <td>891.0</td>\n",
       "      <td>0.551066</td>\n",
       "      <td>0.497665</td>\n",
       "      <td>0.00</td>\n",
       "      <td>0.0000</td>\n",
       "      <td>1.0000</td>\n",
       "      <td>1.0</td>\n",
       "      <td>1.0000</td>\n",
       "    </tr>\n",
       "  </tbody>\n",
       "</table>\n",
       "</div>"
      ],
      "text/plain": [
       "              count       mean        std   min      25%      50%   75%  \\\n",
       "Age           891.0  29.361582  13.019697  0.42  22.0000  28.0000  35.0   \n",
       "Fare          891.0  32.204208  49.693429  0.00   7.9104  14.4542  31.0   \n",
       "SoloTraveler  891.0   0.602694   0.489615  0.00   0.0000   1.0000   1.0   \n",
       "Sex_male      891.0   0.647587   0.477990  0.00   0.0000   1.0000   1.0   \n",
       "Embarked_Q    891.0   0.086420   0.281141  0.00   0.0000   0.0000   0.0   \n",
       "Embarked_S    891.0   0.725028   0.446751  0.00   0.0000   1.0000   1.0   \n",
       "Pclass_2      891.0   0.206510   0.405028  0.00   0.0000   0.0000   0.0   \n",
       "Pclass_3      891.0   0.551066   0.497665  0.00   0.0000   1.0000   1.0   \n",
       "\n",
       "                   max  \n",
       "Age            80.0000  \n",
       "Fare          512.3292  \n",
       "SoloTraveler    1.0000  \n",
       "Sex_male        1.0000  \n",
       "Embarked_Q      1.0000  \n",
       "Embarked_S      1.0000  \n",
       "Pclass_2        1.0000  \n",
       "Pclass_3        1.0000  "
      ]
     },
     "execution_count": 78,
     "metadata": {},
     "output_type": "execute_result"
    }
   ],
   "source": [
    "train_data.describe().T"
   ]
  },
  {
   "cell_type": "code",
   "execution_count": 79,
   "id": "d12c5441-5074-4eff-aa7c-bcdea8b9e90d",
   "metadata": {},
   "outputs": [
    {
     "data": {
      "text/plain": [
       "Index(['Age', 'Fare', 'SoloTraveler', 'Sex_male', 'Embarked_Q', 'Embarked_S',\n",
       "       'Pclass_2', 'Pclass_3'],\n",
       "      dtype='object')"
      ]
     },
     "execution_count": 79,
     "metadata": {},
     "output_type": "execute_result"
    }
   ],
   "source": [
    "cols = train_data.columns\n",
    "cols"
   ]
  },
  {
   "cell_type": "code",
   "execution_count": 80,
   "id": "15263e21-32af-4743-8e68-bf8f676bebcf",
   "metadata": {},
   "outputs": [],
   "source": [
    "from sklearn.preprocessing import MinMaxScaler\n",
    "scaler = MinMaxScaler()"
   ]
  },
  {
   "cell_type": "code",
   "execution_count": 81,
   "id": "bb3aa04a-ffbe-4359-a1af-c81c54bdf690",
   "metadata": {},
   "outputs": [],
   "source": [
    "train_data = scaler.fit_transform(train_data)"
   ]
  },
  {
   "cell_type": "code",
   "execution_count": 82,
   "id": "38bec1d5-79e5-4ca9-ab3c-fd0482770a74",
   "metadata": {},
   "outputs": [],
   "source": [
    "train_data = pd.DataFrame(train_data,columns=[cols])"
   ]
  },
  {
   "cell_type": "code",
   "execution_count": 83,
   "id": "332e7bed-7172-4a37-bb94-0bf298596023",
   "metadata": {},
   "outputs": [
    {
     "data": {
      "text/html": [
       "<div>\n",
       "<style scoped>\n",
       "    .dataframe tbody tr th:only-of-type {\n",
       "        vertical-align: middle;\n",
       "    }\n",
       "\n",
       "    .dataframe tbody tr th {\n",
       "        vertical-align: top;\n",
       "    }\n",
       "\n",
       "    .dataframe thead tr th {\n",
       "        text-align: left;\n",
       "    }\n",
       "</style>\n",
       "<table border=\"1\" class=\"dataframe\">\n",
       "  <thead>\n",
       "    <tr>\n",
       "      <th></th>\n",
       "      <th>Age</th>\n",
       "      <th>Fare</th>\n",
       "      <th>SoloTraveler</th>\n",
       "      <th>Sex_male</th>\n",
       "      <th>Embarked_Q</th>\n",
       "      <th>Embarked_S</th>\n",
       "      <th>Pclass_2</th>\n",
       "      <th>Pclass_3</th>\n",
       "    </tr>\n",
       "  </thead>\n",
       "  <tbody>\n",
       "    <tr>\n",
       "      <th>0</th>\n",
       "      <td>0.271174</td>\n",
       "      <td>0.014151</td>\n",
       "      <td>0.0</td>\n",
       "      <td>1.0</td>\n",
       "      <td>0.0</td>\n",
       "      <td>1.0</td>\n",
       "      <td>0.0</td>\n",
       "      <td>1.0</td>\n",
       "    </tr>\n",
       "    <tr>\n",
       "      <th>1</th>\n",
       "      <td>0.472229</td>\n",
       "      <td>0.139136</td>\n",
       "      <td>0.0</td>\n",
       "      <td>0.0</td>\n",
       "      <td>0.0</td>\n",
       "      <td>0.0</td>\n",
       "      <td>0.0</td>\n",
       "      <td>0.0</td>\n",
       "    </tr>\n",
       "    <tr>\n",
       "      <th>2</th>\n",
       "      <td>0.321438</td>\n",
       "      <td>0.015469</td>\n",
       "      <td>1.0</td>\n",
       "      <td>0.0</td>\n",
       "      <td>0.0</td>\n",
       "      <td>1.0</td>\n",
       "      <td>0.0</td>\n",
       "      <td>1.0</td>\n",
       "    </tr>\n",
       "    <tr>\n",
       "      <th>3</th>\n",
       "      <td>0.434531</td>\n",
       "      <td>0.103644</td>\n",
       "      <td>0.0</td>\n",
       "      <td>0.0</td>\n",
       "      <td>0.0</td>\n",
       "      <td>1.0</td>\n",
       "      <td>0.0</td>\n",
       "      <td>0.0</td>\n",
       "    </tr>\n",
       "    <tr>\n",
       "      <th>4</th>\n",
       "      <td>0.434531</td>\n",
       "      <td>0.015713</td>\n",
       "      <td>1.0</td>\n",
       "      <td>1.0</td>\n",
       "      <td>0.0</td>\n",
       "      <td>1.0</td>\n",
       "      <td>0.0</td>\n",
       "      <td>1.0</td>\n",
       "    </tr>\n",
       "  </tbody>\n",
       "</table>\n",
       "</div>"
      ],
      "text/plain": [
       "        Age      Fare SoloTraveler Sex_male Embarked_Q Embarked_S Pclass_2  \\\n",
       "0  0.271174  0.014151          0.0      1.0        0.0        1.0      0.0   \n",
       "1  0.472229  0.139136          0.0      0.0        0.0        0.0      0.0   \n",
       "2  0.321438  0.015469          1.0      0.0        0.0        1.0      0.0   \n",
       "3  0.434531  0.103644          0.0      0.0        0.0        1.0      0.0   \n",
       "4  0.434531  0.015713          1.0      1.0        0.0        1.0      0.0   \n",
       "\n",
       "  Pclass_3  \n",
       "0      1.0  \n",
       "1      0.0  \n",
       "2      1.0  \n",
       "3      0.0  \n",
       "4      1.0  "
      ]
     },
     "execution_count": 83,
     "metadata": {},
     "output_type": "execute_result"
    }
   ],
   "source": [
    "train_data.head()"
   ]
  },
  {
   "cell_type": "markdown",
   "id": "af35aa6e-73d6-44fb-8abc-cd4f5a8201c1",
   "metadata": {},
   "source": [
    "#TRAIN TEST SPLIT"
   ]
  },
  {
   "cell_type": "code",
   "execution_count": 85,
   "id": "43027e9a-a558-4915-b7df-0af78db59ea4",
   "metadata": {},
   "outputs": [],
   "source": [
    "from sklearn.model_selection import train_test_split"
   ]
  },
  {
   "cell_type": "code",
   "execution_count": 86,
   "id": "ee9040d6-d575-47e9-90d5-ea89ed2e79e7",
   "metadata": {},
   "outputs": [],
   "source": [
    "X_train,X_test,y_train,y_test = train_test_split(train_data,y,test_size=0.2,random_state=2)"
   ]
  },
  {
   "cell_type": "code",
   "execution_count": 88,
   "id": "dcd439fa-2a21-4b73-b42d-1ea5e7bd808a",
   "metadata": {},
   "outputs": [
    {
     "data": {
      "text/plain": [
       "(712, 8)"
      ]
     },
     "execution_count": 88,
     "metadata": {},
     "output_type": "execute_result"
    }
   ],
   "source": [
    "X_train.shape"
   ]
  },
  {
   "cell_type": "code",
   "execution_count": 89,
   "id": "75bf2585-9323-4219-857e-fac7f2586d69",
   "metadata": {},
   "outputs": [
    {
     "data": {
      "text/plain": [
       "(179, 8)"
      ]
     },
     "execution_count": 89,
     "metadata": {},
     "output_type": "execute_result"
    }
   ],
   "source": [
    "X_test.shape"
   ]
  },
  {
   "cell_type": "code",
   "execution_count": 90,
   "id": "b4d04fda-f025-4c05-961a-82d5410ecd04",
   "metadata": {},
   "outputs": [
    {
     "data": {
      "text/plain": [
       "30     0\n",
       "10     1\n",
       "873    0\n",
       "182    0\n",
       "876    0\n",
       "      ..\n",
       "534    0\n",
       "584    0\n",
       "493    0\n",
       "527    0\n",
       "168    0\n",
       "Name: Survived, Length: 712, dtype: int64"
      ]
     },
     "execution_count": 90,
     "metadata": {},
     "output_type": "execute_result"
    }
   ],
   "source": [
    "y_train"
   ]
  },
  {
   "cell_type": "code",
   "execution_count": 91,
   "id": "925e331e-1af0-4cd3-8fa1-807037089b83",
   "metadata": {},
   "outputs": [
    {
     "data": {
      "text/plain": [
       "707    1\n",
       "37     0\n",
       "615    1\n",
       "169    0\n",
       "68     1\n",
       "      ..\n",
       "89     0\n",
       "80     0\n",
       "846    0\n",
       "870    0\n",
       "251    0\n",
       "Name: Survived, Length: 179, dtype: int64"
      ]
     },
     "execution_count": 91,
     "metadata": {},
     "output_type": "execute_result"
    }
   ],
   "source": [
    "y_test"
   ]
  },
  {
   "cell_type": "markdown",
   "id": "35ea527d-06af-44a2-a87b-0ffa346ce305",
   "metadata": {},
   "source": [
    "#creating model"
   ]
  },
  {
   "cell_type": "code",
   "execution_count": 93,
   "id": "d735c7ca-0976-467a-9a13-e1e483413204",
   "metadata": {},
   "outputs": [
    {
     "data": {
      "text/plain": [
       "LogisticRegression(random_state=0, solver='liblinear')"
      ]
     },
     "execution_count": 93,
     "metadata": {},
     "output_type": "execute_result"
    }
   ],
   "source": [
    "from sklearn.linear_model import LogisticRegression\n",
    "\n",
    "logreg = LogisticRegression(solver='liblinear',random_state=0)\n",
    "\n",
    "logreg.fit(X_train,y_train)"
   ]
  },
  {
   "cell_type": "markdown",
   "id": "4c29ac94-3ecf-4b93-b2c7-2c2c5d474a35",
   "metadata": {},
   "source": [
    "#predict"
   ]
  },
  {
   "cell_type": "code",
   "execution_count": 95,
   "id": "254dfe3f-2f4a-4dbd-88e9-c6457f92fbc2",
   "metadata": {},
   "outputs": [],
   "source": [
    "y_pred = logreg.predict(X_test)"
   ]
  },
  {
   "cell_type": "code",
   "execution_count": 97,
   "id": "c69334d2-2780-4acd-bdc5-9dee0718dcdc",
   "metadata": {},
   "outputs": [
    {
     "data": {
      "text/plain": [
       "array([0, 0, 1, 0, 1, 0, 0, 0, 0, 0, 0, 1, 1, 0, 0, 1, 0, 0, 1, 0, 1, 1,\n",
       "       0, 1, 0, 1, 1, 0, 0, 0, 0, 0, 1, 0, 0, 1, 1, 0, 0, 0, 0, 0, 1, 0,\n",
       "       0, 1, 1, 0, 0, 1, 0, 0, 0, 0, 0, 0, 1, 0, 0, 0, 1, 0, 0, 0, 1, 0,\n",
       "       1, 0, 0, 0, 1, 0, 1, 0, 0, 0, 0, 0, 1, 0, 1, 0, 0, 0, 1, 1, 0, 0,\n",
       "       1, 0, 0, 0, 0, 0, 0, 1, 1, 1, 0, 0, 1, 0, 1, 1, 0, 1, 1, 1, 0, 0,\n",
       "       0, 0, 0, 0, 1, 1, 0, 1, 0, 0, 1, 0, 0, 0, 0, 0, 0, 1, 0, 0, 0, 0,\n",
       "       1, 1, 0, 1, 0, 0, 0, 0, 1, 1, 1, 1, 0, 1, 0, 0, 0, 1, 0, 0, 0, 0,\n",
       "       1, 0, 0, 1, 1, 0, 0, 0, 0, 0, 1, 1, 0, 0, 1, 0, 0, 1, 1, 1, 0, 0,\n",
       "       0, 0, 1])"
      ]
     },
     "execution_count": 97,
     "metadata": {},
     "output_type": "execute_result"
    }
   ],
   "source": [
    "y_pred"
   ]
  },
  {
   "cell_type": "code",
   "execution_count": 103,
   "id": "c8488666-4f22-4727-b5b8-704c9232a717",
   "metadata": {},
   "outputs": [
    {
     "data": {
      "text/plain": [
       "array([0.71566808, 0.9106929 , 0.19335168, 0.9164709 , 0.4411967 ,\n",
       "       0.9240331 , 0.84048156, 0.91693815, 0.70595606, 0.74276278,\n",
       "       0.78893909, 0.14453791, 0.33297568, 0.9164709 , 0.9164709 ,\n",
       "       0.45089004, 0.88101552, 0.94688199, 0.35196474, 0.93866358,\n",
       "       0.47430005, 0.39529048, 0.89554799, 0.45995316, 0.86166856,\n",
       "       0.36502106, 0.31316525, 0.67424763, 0.92108639, 0.84633668,\n",
       "       0.90910207, 0.93253257, 0.3817079 , 0.64973872, 0.62073069,\n",
       "       0.482271  , 0.13966436, 0.86022102, 0.92123975, 0.79231663,\n",
       "       0.93438701, 0.93697623, 0.48106958, 0.90051774, 0.91065185,\n",
       "       0.49977922, 0.12198731, 0.92116649, 0.87628364, 0.22522835,\n",
       "       0.92122502, 0.75004478, 0.75210502, 0.73200982, 0.78249044,\n",
       "       0.71994097, 0.40259856, 0.9106273 , 0.94836357, 0.92673265,\n",
       "       0.27984974, 0.64800631, 0.93060971, 0.92130141, 0.36977444,\n",
       "       0.92791178, 0.20150962, 0.76349335, 0.86135874, 0.89868392,\n",
       "       0.47258877, 0.9664195 , 0.37803808, 0.9212493 , 0.5005954 ,\n",
       "       0.63959457, 0.90580161, 0.65245689, 0.13676343, 0.92227109,\n",
       "       0.07743572, 0.65201212, 0.8832803 , 0.77495429, 0.10789788,\n",
       "       0.1929203 , 0.93425675, 0.92123975, 0.2221742 , 0.76828833,\n",
       "       0.88122239, 0.90744617, 0.88325206, 0.92123975, 0.94116492,\n",
       "       0.1392221 , 0.45193671, 0.26196015, 0.88846069, 0.52609272,\n",
       "       0.47297776, 0.80724266, 0.19585406, 0.103863  , 0.90893059,\n",
       "       0.39779678, 0.14362111, 0.49204882, 0.70669832, 0.91983108,\n",
       "       0.65570649, 0.92265933, 0.62943944, 0.90674264, 0.06164303,\n",
       "       0.22436937, 0.91981782, 0.14209195, 0.67118532, 0.86653831,\n",
       "       0.22893905, 0.88722778, 0.77132083, 0.75767299, 0.9099802 ,\n",
       "       0.92123975, 0.72701234, 0.18620146, 0.90583249, 0.77132083,\n",
       "       0.92123975, 0.84905606, 0.33869355, 0.12063555, 0.83605905,\n",
       "       0.49260816, 0.8043854 , 0.92122502, 0.93550714, 0.9095179 ,\n",
       "       0.48589897, 0.11037621, 0.27177126, 0.15405496, 0.65673104,\n",
       "       0.14002769, 0.91610898, 0.95245023, 0.90583016, 0.18582957,\n",
       "       0.69931286, 0.50609944, 0.92470296, 0.93524141, 0.39799592,\n",
       "       0.9319091 , 0.68269295, 0.14480746, 0.33881282, 0.911999  ,\n",
       "       0.55477895, 0.92121905, 0.90745814, 0.89029906, 0.12458057,\n",
       "       0.0934078 , 0.92635462, 0.92125129, 0.06557974, 0.91235599,\n",
       "       0.91575652, 0.46165049, 0.21437359, 0.4812339 , 0.91535394,\n",
       "       0.91217161, 0.9101672 , 0.91835276, 0.49879574])"
      ]
     },
     "execution_count": 103,
     "metadata": {},
     "output_type": "execute_result"
    }
   ],
   "source": [
    "# dead survived==0\n",
    "logreg.predict_proba(X_test)[:,0]"
   ]
  },
  {
   "cell_type": "code",
   "execution_count": 104,
   "id": "63faf09f-6981-49bb-9062-96dad48989e8",
   "metadata": {},
   "outputs": [
    {
     "data": {
      "text/plain": [
       "array([0.28433192, 0.0893071 , 0.80664832, 0.0835291 , 0.5588033 ,\n",
       "       0.0759669 , 0.15951844, 0.08306185, 0.29404394, 0.25723722,\n",
       "       0.21106091, 0.85546209, 0.66702432, 0.0835291 , 0.0835291 ,\n",
       "       0.54910996, 0.11898448, 0.05311801, 0.64803526, 0.06133642,\n",
       "       0.52569995, 0.60470952, 0.10445201, 0.54004684, 0.13833144,\n",
       "       0.63497894, 0.68683475, 0.32575237, 0.07891361, 0.15366332,\n",
       "       0.09089793, 0.06746743, 0.6182921 , 0.35026128, 0.37926931,\n",
       "       0.517729  , 0.86033564, 0.13977898, 0.07876025, 0.20768337,\n",
       "       0.06561299, 0.06302377, 0.51893042, 0.09948226, 0.08934815,\n",
       "       0.50022078, 0.87801269, 0.07883351, 0.12371636, 0.77477165,\n",
       "       0.07877498, 0.24995522, 0.24789498, 0.26799018, 0.21750956,\n",
       "       0.28005903, 0.59740144, 0.0893727 , 0.05163643, 0.07326735,\n",
       "       0.72015026, 0.35199369, 0.06939029, 0.07869859, 0.63022556,\n",
       "       0.07208822, 0.79849038, 0.23650665, 0.13864126, 0.10131608,\n",
       "       0.52741123, 0.0335805 , 0.62196192, 0.0787507 , 0.4994046 ,\n",
       "       0.36040543, 0.09419839, 0.34754311, 0.86323657, 0.07772891,\n",
       "       0.92256428, 0.34798788, 0.1167197 , 0.22504571, 0.89210212,\n",
       "       0.8070797 , 0.06574325, 0.07876025, 0.7778258 , 0.23171167,\n",
       "       0.11877761, 0.09255383, 0.11674794, 0.07876025, 0.05883508,\n",
       "       0.8607779 , 0.54806329, 0.73803985, 0.11153931, 0.47390728,\n",
       "       0.52702224, 0.19275734, 0.80414594, 0.896137  , 0.09106941,\n",
       "       0.60220322, 0.85637889, 0.50795118, 0.29330168, 0.08016892,\n",
       "       0.34429351, 0.07734067, 0.37056056, 0.09325736, 0.93835697,\n",
       "       0.77563063, 0.08018218, 0.85790805, 0.32881468, 0.13346169,\n",
       "       0.77106095, 0.11277222, 0.22867917, 0.24232701, 0.0900198 ,\n",
       "       0.07876025, 0.27298766, 0.81379854, 0.09416751, 0.22867917,\n",
       "       0.07876025, 0.15094394, 0.66130645, 0.87936445, 0.16394095,\n",
       "       0.50739184, 0.1956146 , 0.07877498, 0.06449286, 0.0904821 ,\n",
       "       0.51410103, 0.88962379, 0.72822874, 0.84594504, 0.34326896,\n",
       "       0.85997231, 0.08389102, 0.04754977, 0.09416984, 0.81417043,\n",
       "       0.30068714, 0.49390056, 0.07529704, 0.06475859, 0.60200408,\n",
       "       0.0680909 , 0.31730705, 0.85519254, 0.66118718, 0.088001  ,\n",
       "       0.44522105, 0.07878095, 0.09254186, 0.10970094, 0.87541943,\n",
       "       0.9065922 , 0.07364538, 0.07874871, 0.93442026, 0.08764401,\n",
       "       0.08424348, 0.53834951, 0.78562641, 0.5187661 , 0.08464606,\n",
       "       0.08782839, 0.0898328 , 0.08164724, 0.50120426])"
      ]
     },
     "execution_count": 104,
     "metadata": {},
     "output_type": "execute_result"
    }
   ],
   "source": [
    "# survived survived==1\n",
    "logreg.predict_proba(X_test)[:,1]"
   ]
  },
  {
   "cell_type": "markdown",
   "id": "dc174e6f-4169-448d-9ee4-7ec3771162d4",
   "metadata": {},
   "source": [
    "#quality of model"
   ]
  },
  {
   "cell_type": "code",
   "execution_count": 106,
   "id": "79d3b545-73d6-4a72-a2c8-3916a99098d9",
   "metadata": {},
   "outputs": [
    {
     "data": {
      "text/plain": [
       "0.7597765363128491"
      ]
     },
     "execution_count": 106,
     "metadata": {},
     "output_type": "execute_result"
    }
   ],
   "source": [
    "from sklearn.metrics import accuracy_score\n",
    "accuracy_score(y_test,y_pred)"
   ]
  },
  {
   "cell_type": "code",
   "execution_count": null,
   "id": "364f34a8-4533-4657-b53f-9b8adeac4993",
   "metadata": {},
   "outputs": [],
   "source": []
  }
 ],
 "metadata": {
  "kernelspec": {
   "display_name": "Python 3 (ipykernel)",
   "language": "python",
   "name": "python3"
  },
  "language_info": {
   "codemirror_mode": {
    "name": "ipython",
    "version": 3
   },
   "file_extension": ".py",
   "mimetype": "text/x-python",
   "name": "python",
   "nbconvert_exporter": "python",
   "pygments_lexer": "ipython3",
   "version": "3.9.13"
  }
 },
 "nbformat": 4,
 "nbformat_minor": 5
}
