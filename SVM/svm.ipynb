{
 "cells": [
  {
   "cell_type": "code",
   "execution_count": 1,
   "id": "fa61603a-4234-4bdc-87b9-d801bdda7e6e",
   "metadata": {},
   "outputs": [],
   "source": [
    "import numpy as np\n",
    "import pandas as pd\n",
    "import matplotlib.pyplot as plt\n",
    "import seaborn as sns\n",
    "%matplotlib inline\n",
    "import warnings\n",
    "warnings.filterwarnings('ignore')"
   ]
  },
  {
   "cell_type": "code",
   "execution_count": 2,
   "id": "80bfd8aa-aea0-4f6f-8fda-7b09239a56bf",
   "metadata": {},
   "outputs": [],
   "source": [
    "df = pd.read_csv('data/bank-additional.csv',sep=';')"
   ]
  },
  {
   "cell_type": "code",
   "execution_count": 3,
   "id": "0b1eb5b9-8961-453d-b4b3-cd7fc47107ee",
   "metadata": {},
   "outputs": [],
   "source": [
    "df = df.drop('duration',axis=1)"
   ]
  },
  {
   "cell_type": "code",
   "execution_count": 4,
   "id": "9c6e0988-3bba-4029-a4e0-0209321fb36f",
   "metadata": {},
   "outputs": [
    {
     "data": {
      "text/plain": [
       "(4119, 20)"
      ]
     },
     "execution_count": 4,
     "metadata": {},
     "output_type": "execute_result"
    }
   ],
   "source": [
    "df.shape"
   ]
  },
  {
   "cell_type": "code",
   "execution_count": 5,
   "id": "31927e44-6da6-46ec-926c-1ad4bd68fa08",
   "metadata": {},
   "outputs": [
    {
     "data": {
      "text/html": [
       "<div>\n",
       "<style scoped>\n",
       "    .dataframe tbody tr th:only-of-type {\n",
       "        vertical-align: middle;\n",
       "    }\n",
       "\n",
       "    .dataframe tbody tr th {\n",
       "        vertical-align: top;\n",
       "    }\n",
       "\n",
       "    .dataframe thead th {\n",
       "        text-align: right;\n",
       "    }\n",
       "</style>\n",
       "<table border=\"1\" class=\"dataframe\">\n",
       "  <thead>\n",
       "    <tr style=\"text-align: right;\">\n",
       "      <th></th>\n",
       "      <th>age</th>\n",
       "      <th>job</th>\n",
       "      <th>marital</th>\n",
       "      <th>education</th>\n",
       "      <th>default</th>\n",
       "      <th>housing</th>\n",
       "      <th>loan</th>\n",
       "      <th>contact</th>\n",
       "      <th>month</th>\n",
       "      <th>day_of_week</th>\n",
       "      <th>campaign</th>\n",
       "      <th>pdays</th>\n",
       "      <th>previous</th>\n",
       "      <th>poutcome</th>\n",
       "      <th>emp.var.rate</th>\n",
       "      <th>cons.price.idx</th>\n",
       "      <th>cons.conf.idx</th>\n",
       "      <th>euribor3m</th>\n",
       "      <th>nr.employed</th>\n",
       "      <th>y</th>\n",
       "    </tr>\n",
       "  </thead>\n",
       "  <tbody>\n",
       "    <tr>\n",
       "      <th>0</th>\n",
       "      <td>30</td>\n",
       "      <td>blue-collar</td>\n",
       "      <td>married</td>\n",
       "      <td>basic.9y</td>\n",
       "      <td>no</td>\n",
       "      <td>yes</td>\n",
       "      <td>no</td>\n",
       "      <td>cellular</td>\n",
       "      <td>may</td>\n",
       "      <td>fri</td>\n",
       "      <td>2</td>\n",
       "      <td>999</td>\n",
       "      <td>0</td>\n",
       "      <td>nonexistent</td>\n",
       "      <td>-1.8</td>\n",
       "      <td>92.893</td>\n",
       "      <td>-46.2</td>\n",
       "      <td>1.313</td>\n",
       "      <td>5099.1</td>\n",
       "      <td>no</td>\n",
       "    </tr>\n",
       "    <tr>\n",
       "      <th>1</th>\n",
       "      <td>39</td>\n",
       "      <td>services</td>\n",
       "      <td>single</td>\n",
       "      <td>high.school</td>\n",
       "      <td>no</td>\n",
       "      <td>no</td>\n",
       "      <td>no</td>\n",
       "      <td>telephone</td>\n",
       "      <td>may</td>\n",
       "      <td>fri</td>\n",
       "      <td>4</td>\n",
       "      <td>999</td>\n",
       "      <td>0</td>\n",
       "      <td>nonexistent</td>\n",
       "      <td>1.1</td>\n",
       "      <td>93.994</td>\n",
       "      <td>-36.4</td>\n",
       "      <td>4.855</td>\n",
       "      <td>5191.0</td>\n",
       "      <td>no</td>\n",
       "    </tr>\n",
       "    <tr>\n",
       "      <th>2</th>\n",
       "      <td>25</td>\n",
       "      <td>services</td>\n",
       "      <td>married</td>\n",
       "      <td>high.school</td>\n",
       "      <td>no</td>\n",
       "      <td>yes</td>\n",
       "      <td>no</td>\n",
       "      <td>telephone</td>\n",
       "      <td>jun</td>\n",
       "      <td>wed</td>\n",
       "      <td>1</td>\n",
       "      <td>999</td>\n",
       "      <td>0</td>\n",
       "      <td>nonexistent</td>\n",
       "      <td>1.4</td>\n",
       "      <td>94.465</td>\n",
       "      <td>-41.8</td>\n",
       "      <td>4.962</td>\n",
       "      <td>5228.1</td>\n",
       "      <td>no</td>\n",
       "    </tr>\n",
       "    <tr>\n",
       "      <th>3</th>\n",
       "      <td>38</td>\n",
       "      <td>services</td>\n",
       "      <td>married</td>\n",
       "      <td>basic.9y</td>\n",
       "      <td>no</td>\n",
       "      <td>unknown</td>\n",
       "      <td>unknown</td>\n",
       "      <td>telephone</td>\n",
       "      <td>jun</td>\n",
       "      <td>fri</td>\n",
       "      <td>3</td>\n",
       "      <td>999</td>\n",
       "      <td>0</td>\n",
       "      <td>nonexistent</td>\n",
       "      <td>1.4</td>\n",
       "      <td>94.465</td>\n",
       "      <td>-41.8</td>\n",
       "      <td>4.959</td>\n",
       "      <td>5228.1</td>\n",
       "      <td>no</td>\n",
       "    </tr>\n",
       "    <tr>\n",
       "      <th>4</th>\n",
       "      <td>47</td>\n",
       "      <td>admin.</td>\n",
       "      <td>married</td>\n",
       "      <td>university.degree</td>\n",
       "      <td>no</td>\n",
       "      <td>yes</td>\n",
       "      <td>no</td>\n",
       "      <td>cellular</td>\n",
       "      <td>nov</td>\n",
       "      <td>mon</td>\n",
       "      <td>1</td>\n",
       "      <td>999</td>\n",
       "      <td>0</td>\n",
       "      <td>nonexistent</td>\n",
       "      <td>-0.1</td>\n",
       "      <td>93.200</td>\n",
       "      <td>-42.0</td>\n",
       "      <td>4.191</td>\n",
       "      <td>5195.8</td>\n",
       "      <td>no</td>\n",
       "    </tr>\n",
       "    <tr>\n",
       "      <th>5</th>\n",
       "      <td>32</td>\n",
       "      <td>services</td>\n",
       "      <td>single</td>\n",
       "      <td>university.degree</td>\n",
       "      <td>no</td>\n",
       "      <td>no</td>\n",
       "      <td>no</td>\n",
       "      <td>cellular</td>\n",
       "      <td>sep</td>\n",
       "      <td>thu</td>\n",
       "      <td>3</td>\n",
       "      <td>999</td>\n",
       "      <td>2</td>\n",
       "      <td>failure</td>\n",
       "      <td>-1.1</td>\n",
       "      <td>94.199</td>\n",
       "      <td>-37.5</td>\n",
       "      <td>0.884</td>\n",
       "      <td>4963.6</td>\n",
       "      <td>no</td>\n",
       "    </tr>\n",
       "  </tbody>\n",
       "</table>\n",
       "</div>"
      ],
      "text/plain": [
       "   age          job  marital          education default  housing     loan  \\\n",
       "0   30  blue-collar  married           basic.9y      no      yes       no   \n",
       "1   39     services   single        high.school      no       no       no   \n",
       "2   25     services  married        high.school      no      yes       no   \n",
       "3   38     services  married           basic.9y      no  unknown  unknown   \n",
       "4   47       admin.  married  university.degree      no      yes       no   \n",
       "5   32     services   single  university.degree      no       no       no   \n",
       "\n",
       "     contact month day_of_week  campaign  pdays  previous     poutcome  \\\n",
       "0   cellular   may         fri         2    999         0  nonexistent   \n",
       "1  telephone   may         fri         4    999         0  nonexistent   \n",
       "2  telephone   jun         wed         1    999         0  nonexistent   \n",
       "3  telephone   jun         fri         3    999         0  nonexistent   \n",
       "4   cellular   nov         mon         1    999         0  nonexistent   \n",
       "5   cellular   sep         thu         3    999         2      failure   \n",
       "\n",
       "   emp.var.rate  cons.price.idx  cons.conf.idx  euribor3m  nr.employed   y  \n",
       "0          -1.8          92.893          -46.2      1.313       5099.1  no  \n",
       "1           1.1          93.994          -36.4      4.855       5191.0  no  \n",
       "2           1.4          94.465          -41.8      4.962       5228.1  no  \n",
       "3           1.4          94.465          -41.8      4.959       5228.1  no  \n",
       "4          -0.1          93.200          -42.0      4.191       5195.8  no  \n",
       "5          -1.1          94.199          -37.5      0.884       4963.6  no  "
      ]
     },
     "execution_count": 5,
     "metadata": {},
     "output_type": "execute_result"
    }
   ],
   "source": [
    "df.head(6)"
   ]
  },
  {
   "cell_type": "code",
   "execution_count": 6,
   "id": "605932ab-8842-45fa-8f5c-b6196f22ae2b",
   "metadata": {},
   "outputs": [],
   "source": [
    "col_names = df.columns"
   ]
  },
  {
   "cell_type": "code",
   "execution_count": 7,
   "id": "16ee5f6f-1852-4bf3-8bee-78cf2da25de5",
   "metadata": {},
   "outputs": [
    {
     "data": {
      "text/plain": [
       "Index(['age', 'job', 'marital', 'education', 'default', 'housing', 'loan',\n",
       "       'contact', 'month', 'day_of_week', 'campaign', 'pdays', 'previous',\n",
       "       'poutcome', 'emp.var.rate', 'cons.price.idx', 'cons.conf.idx',\n",
       "       'euribor3m', 'nr.employed', 'y'],\n",
       "      dtype='object')"
      ]
     },
     "execution_count": 7,
     "metadata": {},
     "output_type": "execute_result"
    }
   ],
   "source": [
    "col_names"
   ]
  },
  {
   "cell_type": "code",
   "execution_count": 8,
   "id": "65f695dd-c48c-4c18-85b3-b1578ae0d7f9",
   "metadata": {},
   "outputs": [
    {
     "data": {
      "text/plain": [
       "no     3668\n",
       "yes     451\n",
       "Name: y, dtype: int64"
      ]
     },
     "execution_count": 8,
     "metadata": {},
     "output_type": "execute_result"
    }
   ],
   "source": [
    "df['y'].value_counts()"
   ]
  },
  {
   "cell_type": "code",
   "execution_count": 9,
   "id": "d1a795f9-d0e5-49f2-bf0a-01d1ca2756c2",
   "metadata": {},
   "outputs": [
    {
     "data": {
      "text/plain": [
       "no     0.890507\n",
       "yes    0.109493\n",
       "Name: y, dtype: float64"
      ]
     },
     "execution_count": 9,
     "metadata": {},
     "output_type": "execute_result"
    }
   ],
   "source": [
    "df['y'].value_counts()/np.float(len(df))"
   ]
  },
  {
   "cell_type": "code",
   "execution_count": 10,
   "id": "186aafa6-ff60-4288-a383-2fabfda428b0",
   "metadata": {},
   "outputs": [
    {
     "name": "stdout",
     "output_type": "stream",
     "text": [
      "<class 'pandas.core.frame.DataFrame'>\n",
      "RangeIndex: 4119 entries, 0 to 4118\n",
      "Data columns (total 20 columns):\n",
      " #   Column          Non-Null Count  Dtype  \n",
      "---  ------          --------------  -----  \n",
      " 0   age             4119 non-null   int64  \n",
      " 1   job             4119 non-null   object \n",
      " 2   marital         4119 non-null   object \n",
      " 3   education       4119 non-null   object \n",
      " 4   default         4119 non-null   object \n",
      " 5   housing         4119 non-null   object \n",
      " 6   loan            4119 non-null   object \n",
      " 7   contact         4119 non-null   object \n",
      " 8   month           4119 non-null   object \n",
      " 9   day_of_week     4119 non-null   object \n",
      " 10  campaign        4119 non-null   int64  \n",
      " 11  pdays           4119 non-null   int64  \n",
      " 12  previous        4119 non-null   int64  \n",
      " 13  poutcome        4119 non-null   object \n",
      " 14  emp.var.rate    4119 non-null   float64\n",
      " 15  cons.price.idx  4119 non-null   float64\n",
      " 16  cons.conf.idx   4119 non-null   float64\n",
      " 17  euribor3m       4119 non-null   float64\n",
      " 18  nr.employed     4119 non-null   float64\n",
      " 19  y               4119 non-null   object \n",
      "dtypes: float64(5), int64(4), object(11)\n",
      "memory usage: 643.7+ KB\n"
     ]
    }
   ],
   "source": [
    "df.info()"
   ]
  },
  {
   "cell_type": "code",
   "execution_count": 11,
   "id": "c732e72d-9959-4ec0-b6be-69075462b97b",
   "metadata": {},
   "outputs": [
    {
     "data": {
      "text/plain": [
       "age               0\n",
       "job               0\n",
       "marital           0\n",
       "education         0\n",
       "default           0\n",
       "housing           0\n",
       "loan              0\n",
       "contact           0\n",
       "month             0\n",
       "day_of_week       0\n",
       "campaign          0\n",
       "pdays             0\n",
       "previous          0\n",
       "poutcome          0\n",
       "emp.var.rate      0\n",
       "cons.price.idx    0\n",
       "cons.conf.idx     0\n",
       "euribor3m         0\n",
       "nr.employed       0\n",
       "y                 0\n",
       "dtype: int64"
      ]
     },
     "execution_count": 11,
     "metadata": {},
     "output_type": "execute_result"
    }
   ],
   "source": [
    "df.isnull().sum()"
   ]
  },
  {
   "cell_type": "code",
   "execution_count": 12,
   "id": "34cbcee8-7175-44c1-bc41-ee8e2c724402",
   "metadata": {},
   "outputs": [
    {
     "data": {
      "text/plain": [
       "(4119, 9)"
      ]
     },
     "execution_count": 12,
     "metadata": {},
     "output_type": "execute_result"
    }
   ],
   "source": [
    "df.select_dtypes(include=['int64','float64']).shape"
   ]
  },
  {
   "cell_type": "code",
   "execution_count": 13,
   "id": "4d9625ed-3b8e-4f42-86fe-6886ddaa0b28",
   "metadata": {},
   "outputs": [
    {
     "data": {
      "text/plain": [
       "Index(['age', 'campaign', 'pdays', 'previous', 'emp.var.rate',\n",
       "       'cons.price.idx', 'cons.conf.idx', 'euribor3m', 'nr.employed'],\n",
       "      dtype='object')"
      ]
     },
     "execution_count": 13,
     "metadata": {},
     "output_type": "execute_result"
    }
   ],
   "source": [
    "numeric_cols = df.select_dtypes(include=['int64','float64']).columns\n",
    "numeric_cols"
   ]
  },
  {
   "cell_type": "code",
   "execution_count": 14,
   "id": "c4f896b1-43ed-4e13-9e4d-4711ddff9e79",
   "metadata": {},
   "outputs": [
    {
     "data": {
      "text/plain": [
       "(4119, 11)"
      ]
     },
     "execution_count": 14,
     "metadata": {},
     "output_type": "execute_result"
    }
   ],
   "source": [
    "df.select_dtypes(include=['object']).shape"
   ]
  },
  {
   "cell_type": "code",
   "execution_count": 15,
   "id": "42973cf3-ac79-47f6-b577-411a757c8d93",
   "metadata": {},
   "outputs": [
    {
     "data": {
      "text/plain": [
       "Index(['job', 'marital', 'education', 'default', 'housing', 'loan', 'contact',\n",
       "       'month', 'day_of_week', 'poutcome', 'y'],\n",
       "      dtype='object')"
      ]
     },
     "execution_count": 15,
     "metadata": {},
     "output_type": "execute_result"
    }
   ],
   "source": [
    "cat_cols = df.select_dtypes(include=['object']).columns\n",
    "cat_cols"
   ]
  },
  {
   "cell_type": "code",
   "execution_count": 16,
   "id": "90c22bfc-4e6d-448c-8cc3-c8cdeac13752",
   "metadata": {},
   "outputs": [
    {
     "data": {
      "image/png": "[encoded data removed]",
      "text/plain": [
       "<Figure size 1000x1000 with 9 Axes>"
      ]
     },
     "metadata": {},
     "output_type": "display_data"
    }
   ],
   "source": [
    "df.hist(column=numeric_cols,figsize=(10,10))\n",
    "plt.subplots_adjust(wspace=0.5,hspace=0.5);"
   ]
  },
  {
   "cell_type": "code",
   "execution_count": 17,
   "id": "6c08bc15-e759-46ba-be94-b94c05f0d06f",
   "metadata": {},
   "outputs": [
    {
     "data": {
      "text/plain": [
       "nonexistent    3523\n",
       "failure         454\n",
       "success         142\n",
       "Name: poutcome, dtype: int64"
      ]
     },
     "execution_count": 17,
     "metadata": {},
     "output_type": "execute_result"
    }
   ],
   "source": [
    "df['poutcome'].value_counts()"
   ]
  },
  {
   "cell_type": "code",
   "execution_count": 18,
   "id": "4817c0d7-d046-4e26-ae89-a9e28a243657",
   "metadata": {},
   "outputs": [],
   "source": [
    "df['poutcome'] = df['poutcome'].map({'failure':-1,'nonexistent':0,'success':1})"
   ]
  },
  {
   "cell_type": "code",
   "execution_count": 19,
   "id": "aad11c70-b5ca-4a89-9079-41a7a2a629d8",
   "metadata": {},
   "outputs": [
    {
     "data": {
      "text/plain": [
       " 0    3523\n",
       "-1     454\n",
       " 1     142\n",
       "Name: poutcome, dtype: int64"
      ]
     },
     "execution_count": 19,
     "metadata": {},
     "output_type": "execute_result"
    }
   ],
   "source": [
    "df['poutcome'].value_counts()"
   ]
  },
  {
   "cell_type": "code",
   "execution_count": 20,
   "id": "48bb604b-c824-4ba0-ba5f-bc914b284f44",
   "metadata": {},
   "outputs": [
    {
     "data": {
      "text/plain": [
       "no         3315\n",
       "unknown     803\n",
       "yes           1\n",
       "Name: default, dtype: int64"
      ]
     },
     "execution_count": 20,
     "metadata": {},
     "output_type": "execute_result"
    }
   ],
   "source": [
    "df['default'].value_counts()"
   ]
  },
  {
   "cell_type": "code",
   "execution_count": 21,
   "id": "f55c4987-a01c-48b2-ba02-af3d97453be1",
   "metadata": {},
   "outputs": [],
   "source": [
    "df['default'] = df['default'].map({'yes':-1,'unknown':0,'no':1})\n",
    "df['housing'] = df['housing'].map({'yes':-1,'unknown':0,'no':1})\n",
    "df['loan'] = df['loan'].map({'yes':-1,'unknown':0,'no':1})"
   ]
  },
  {
   "cell_type": "code",
   "execution_count": 22,
   "id": "8fd6aa50-2394-47ca-b0e3-005c4e1f49dc",
   "metadata": {},
   "outputs": [
    {
     "data": {
      "text/plain": [
       " 1    3315\n",
       " 0     803\n",
       "-1       1\n",
       "Name: default, dtype: int64"
      ]
     },
     "execution_count": 22,
     "metadata": {},
     "output_type": "execute_result"
    }
   ],
   "source": [
    "df['default'].value_counts()"
   ]
  },
  {
   "cell_type": "code",
   "execution_count": 23,
   "id": "498c0b5e-82a5-4545-bce8-bd3a277e2287",
   "metadata": {},
   "outputs": [
    {
     "data": {
      "text/plain": [
       " 1    3349\n",
       "-1     665\n",
       " 0     105\n",
       "Name: loan, dtype: int64"
      ]
     },
     "execution_count": 23,
     "metadata": {},
     "output_type": "execute_result"
    }
   ],
   "source": [
    "df['loan'].value_counts()"
   ]
  },
  {
   "cell_type": "code",
   "execution_count": 24,
   "id": "4f84d196-5758-4bba-8f85-0bf8d8fc8439",
   "metadata": {},
   "outputs": [
    {
     "data": {
      "text/plain": [
       "-1    2175\n",
       " 1    1839\n",
       " 0     105\n",
       "Name: housing, dtype: int64"
      ]
     },
     "execution_count": 24,
     "metadata": {},
     "output_type": "execute_result"
    }
   ],
   "source": [
    "df['housing'].value_counts()"
   ]
  },
  {
   "cell_type": "code",
   "execution_count": 25,
   "id": "5bc3a298-7903-47b9-87fe-8d078b88a502",
   "metadata": {},
   "outputs": [
    {
     "data": {
      "text/plain": [
       "Index(['job', 'marital', 'education', 'default', 'housing', 'loan', 'contact',\n",
       "       'month', 'day_of_week', 'poutcome', 'y'],\n",
       "      dtype='object')"
      ]
     },
     "execution_count": 25,
     "metadata": {},
     "output_type": "execute_result"
    }
   ],
   "source": [
    "cat_cols"
   ]
  },
  {
   "cell_type": "code",
   "execution_count": 26,
   "id": "5c7ef48d-bb40-41e1-8e4c-6fd280fbe825",
   "metadata": {},
   "outputs": [],
   "source": [
    "nominal = ['job','marital','education','contact','month','day_of_week']"
   ]
  },
  {
   "cell_type": "code",
   "execution_count": 27,
   "id": "fd0752c9-4219-46b8-bb29-d4b0bc0a90f7",
   "metadata": {},
   "outputs": [
    {
     "data": {
      "text/plain": [
       "(4119, 20)"
      ]
     },
     "execution_count": 27,
     "metadata": {},
     "output_type": "execute_result"
    }
   ],
   "source": [
    "df.shape"
   ]
  },
  {
   "cell_type": "code",
   "execution_count": 28,
   "id": "d38faaf7-094c-4781-ba40-e9bda47ede67",
   "metadata": {},
   "outputs": [
    {
     "data": {
      "text/plain": [
       "Index(['age', 'job', 'marital', 'education', 'default', 'housing', 'loan',\n",
       "       'contact', 'month', 'day_of_week', 'campaign', 'pdays', 'previous',\n",
       "       'poutcome', 'emp.var.rate', 'cons.price.idx', 'cons.conf.idx',\n",
       "       'euribor3m', 'nr.employed', 'y'],\n",
       "      dtype='object')"
      ]
     },
     "execution_count": 28,
     "metadata": {},
     "output_type": "execute_result"
    }
   ],
   "source": [
    "df.columns"
   ]
  },
  {
   "cell_type": "code",
   "execution_count": 29,
   "id": "2d1fd383-2d91-4365-a418-e2ced51c30ca",
   "metadata": {},
   "outputs": [],
   "source": [
    "df = pd.get_dummies(df,columns=nominal)"
   ]
  },
  {
   "cell_type": "code",
   "execution_count": 30,
   "id": "d0c6458c-7b0c-4213-8d64-e4ab0f18ee48",
   "metadata": {},
   "outputs": [
    {
     "data": {
      "text/plain": [
       "(4119, 55)"
      ]
     },
     "execution_count": 30,
     "metadata": {},
     "output_type": "execute_result"
    }
   ],
   "source": [
    "df.shape"
   ]
  },
  {
   "cell_type": "code",
   "execution_count": 31,
   "id": "f19add69-d953-4366-a4ff-68f25682878b",
   "metadata": {},
   "outputs": [
    {
     "data": {
      "text/plain": [
       "Index(['age', 'default', 'housing', 'loan', 'campaign', 'pdays', 'previous',\n",
       "       'poutcome', 'emp.var.rate', 'cons.price.idx', 'cons.conf.idx',\n",
       "       'euribor3m', 'nr.employed', 'y', 'job_admin.', 'job_blue-collar',\n",
       "       'job_entrepreneur', 'job_housemaid', 'job_management', 'job_retired',\n",
       "       'job_self-employed', 'job_services', 'job_student', 'job_technician',\n",
       "       'job_unemployed', 'job_unknown', 'marital_divorced', 'marital_married',\n",
       "       'marital_single', 'marital_unknown', 'education_basic.4y',\n",
       "       'education_basic.6y', 'education_basic.9y', 'education_high.school',\n",
       "       'education_illiterate', 'education_professional.course',\n",
       "       'education_university.degree', 'education_unknown', 'contact_cellular',\n",
       "       'contact_telephone', 'month_apr', 'month_aug', 'month_dec', 'month_jul',\n",
       "       'month_jun', 'month_mar', 'month_may', 'month_nov', 'month_oct',\n",
       "       'month_sep', 'day_of_week_fri', 'day_of_week_mon', 'day_of_week_thu',\n",
       "       'day_of_week_tue', 'day_of_week_wed'],\n",
       "      dtype='object')"
      ]
     },
     "execution_count": 31,
     "metadata": {},
     "output_type": "execute_result"
    }
   ],
   "source": [
    "df.columns"
   ]
  },
  {
   "cell_type": "code",
   "execution_count": 32,
   "id": "30b37ca1-de1d-4a07-8a88-510d2e7e420a",
   "metadata": {},
   "outputs": [],
   "source": [
    "df['y'] = df['y'].map({'yes':1,'no':0})"
   ]
  },
  {
   "cell_type": "code",
   "execution_count": 33,
   "id": "b97a6e14-0405-4bdf-9a8d-87fd8a1afea4",
   "metadata": {},
   "outputs": [
    {
     "data": {
      "text/html": [
       "<div>\n",
       "<style scoped>\n",
       "    .dataframe tbody tr th:only-of-type {\n",
       "        vertical-align: middle;\n",
       "    }\n",
       "\n",
       "    .dataframe tbody tr th {\n",
       "        vertical-align: top;\n",
       "    }\n",
       "\n",
       "    .dataframe thead th {\n",
       "        text-align: right;\n",
       "    }\n",
       "</style>\n",
       "<table border=\"1\" class=\"dataframe\">\n",
       "  <thead>\n",
       "    <tr style=\"text-align: right;\">\n",
       "      <th></th>\n",
       "      <th>age</th>\n",
       "      <th>default</th>\n",
       "      <th>housing</th>\n",
       "      <th>loan</th>\n",
       "      <th>campaign</th>\n",
       "      <th>pdays</th>\n",
       "      <th>previous</th>\n",
       "      <th>poutcome</th>\n",
       "      <th>emp.var.rate</th>\n",
       "      <th>cons.price.idx</th>\n",
       "      <th>...</th>\n",
       "      <th>month_mar</th>\n",
       "      <th>month_may</th>\n",
       "      <th>month_nov</th>\n",
       "      <th>month_oct</th>\n",
       "      <th>month_sep</th>\n",
       "      <th>day_of_week_fri</th>\n",
       "      <th>day_of_week_mon</th>\n",
       "      <th>day_of_week_thu</th>\n",
       "      <th>day_of_week_tue</th>\n",
       "      <th>day_of_week_wed</th>\n",
       "    </tr>\n",
       "  </thead>\n",
       "  <tbody>\n",
       "    <tr>\n",
       "      <th>0</th>\n",
       "      <td>30</td>\n",
       "      <td>1</td>\n",
       "      <td>-1</td>\n",
       "      <td>1</td>\n",
       "      <td>2</td>\n",
       "      <td>999</td>\n",
       "      <td>0</td>\n",
       "      <td>0</td>\n",
       "      <td>-1.8</td>\n",
       "      <td>92.893</td>\n",
       "      <td>...</td>\n",
       "      <td>0</td>\n",
       "      <td>1</td>\n",
       "      <td>0</td>\n",
       "      <td>0</td>\n",
       "      <td>0</td>\n",
       "      <td>1</td>\n",
       "      <td>0</td>\n",
       "      <td>0</td>\n",
       "      <td>0</td>\n",
       "      <td>0</td>\n",
       "    </tr>\n",
       "    <tr>\n",
       "      <th>1</th>\n",
       "      <td>39</td>\n",
       "      <td>1</td>\n",
       "      <td>1</td>\n",
       "      <td>1</td>\n",
       "      <td>4</td>\n",
       "      <td>999</td>\n",
       "      <td>0</td>\n",
       "      <td>0</td>\n",
       "      <td>1.1</td>\n",
       "      <td>93.994</td>\n",
       "      <td>...</td>\n",
       "      <td>0</td>\n",
       "      <td>1</td>\n",
       "      <td>0</td>\n",
       "      <td>0</td>\n",
       "      <td>0</td>\n",
       "      <td>1</td>\n",
       "      <td>0</td>\n",
       "      <td>0</td>\n",
       "      <td>0</td>\n",
       "      <td>0</td>\n",
       "    </tr>\n",
       "    <tr>\n",
       "      <th>2</th>\n",
       "      <td>25</td>\n",
       "      <td>1</td>\n",
       "      <td>-1</td>\n",
       "      <td>1</td>\n",
       "      <td>1</td>\n",
       "      <td>999</td>\n",
       "      <td>0</td>\n",
       "      <td>0</td>\n",
       "      <td>1.4</td>\n",
       "      <td>94.465</td>\n",
       "      <td>...</td>\n",
       "      <td>0</td>\n",
       "      <td>0</td>\n",
       "      <td>0</td>\n",
       "      <td>0</td>\n",
       "      <td>0</td>\n",
       "      <td>0</td>\n",
       "      <td>0</td>\n",
       "      <td>0</td>\n",
       "      <td>0</td>\n",
       "      <td>1</td>\n",
       "    </tr>\n",
       "    <tr>\n",
       "      <th>3</th>\n",
       "      <td>38</td>\n",
       "      <td>1</td>\n",
       "      <td>0</td>\n",
       "      <td>0</td>\n",
       "      <td>3</td>\n",
       "      <td>999</td>\n",
       "      <td>0</td>\n",
       "      <td>0</td>\n",
       "      <td>1.4</td>\n",
       "      <td>94.465</td>\n",
       "      <td>...</td>\n",
       "      <td>0</td>\n",
       "      <td>0</td>\n",
       "      <td>0</td>\n",
       "      <td>0</td>\n",
       "      <td>0</td>\n",
       "      <td>1</td>\n",
       "      <td>0</td>\n",
       "      <td>0</td>\n",
       "      <td>0</td>\n",
       "      <td>0</td>\n",
       "    </tr>\n",
       "    <tr>\n",
       "      <th>4</th>\n",
       "      <td>47</td>\n",
       "      <td>1</td>\n",
       "      <td>-1</td>\n",
       "      <td>1</td>\n",
       "      <td>1</td>\n",
       "      <td>999</td>\n",
       "      <td>0</td>\n",
       "      <td>0</td>\n",
       "      <td>-0.1</td>\n",
       "      <td>93.200</td>\n",
       "      <td>...</td>\n",
       "      <td>0</td>\n",
       "      <td>0</td>\n",
       "      <td>1</td>\n",
       "      <td>0</td>\n",
       "      <td>0</td>\n",
       "      <td>0</td>\n",
       "      <td>1</td>\n",
       "      <td>0</td>\n",
       "      <td>0</td>\n",
       "      <td>0</td>\n",
       "    </tr>\n",
       "    <tr>\n",
       "      <th>5</th>\n",
       "      <td>32</td>\n",
       "      <td>1</td>\n",
       "      <td>1</td>\n",
       "      <td>1</td>\n",
       "      <td>3</td>\n",
       "      <td>999</td>\n",
       "      <td>2</td>\n",
       "      <td>-1</td>\n",
       "      <td>-1.1</td>\n",
       "      <td>94.199</td>\n",
       "      <td>...</td>\n",
       "      <td>0</td>\n",
       "      <td>0</td>\n",
       "      <td>0</td>\n",
       "      <td>0</td>\n",
       "      <td>1</td>\n",
       "      <td>0</td>\n",
       "      <td>0</td>\n",
       "      <td>1</td>\n",
       "      <td>0</td>\n",
       "      <td>0</td>\n",
       "    </tr>\n",
       "  </tbody>\n",
       "</table>\n",
       "<p>6 rows × 55 columns</p>\n",
       "</div>"
      ],
      "text/plain": [
       "   age  default  housing  loan  campaign  pdays  previous  poutcome  \\\n",
       "0   30        1       -1     1         2    999         0         0   \n",
       "1   39        1        1     1         4    999         0         0   \n",
       "2   25        1       -1     1         1    999         0         0   \n",
       "3   38        1        0     0         3    999         0         0   \n",
       "4   47        1       -1     1         1    999         0         0   \n",
       "5   32        1        1     1         3    999         2        -1   \n",
       "\n",
       "   emp.var.rate  cons.price.idx  ...  month_mar  month_may  month_nov  \\\n",
       "0          -1.8          92.893  ...          0          1          0   \n",
       "1           1.1          93.994  ...          0          1          0   \n",
       "2           1.4          94.465  ...          0          0          0   \n",
       "3           1.4          94.465  ...          0          0          0   \n",
       "4          -0.1          93.200  ...          0          0          1   \n",
       "5          -1.1          94.199  ...          0          0          0   \n",
       "\n",
       "   month_oct  month_sep  day_of_week_fri  day_of_week_mon  day_of_week_thu  \\\n",
       "0          0          0                1                0                0   \n",
       "1          0          0                1                0                0   \n",
       "2          0          0                0                0                0   \n",
       "3          0          0                1                0                0   \n",
       "4          0          0                0                1                0   \n",
       "5          0          1                0                0                1   \n",
       "\n",
       "   day_of_week_tue  day_of_week_wed  \n",
       "0                0                0  \n",
       "1                0                0  \n",
       "2                0                1  \n",
       "3                0                0  \n",
       "4                0                0  \n",
       "5                0                0  \n",
       "\n",
       "[6 rows x 55 columns]"
      ]
     },
     "execution_count": 33,
     "metadata": {},
     "output_type": "execute_result"
    }
   ],
   "source": [
    "df.head(6)"
   ]
  },
  {
   "cell_type": "code",
   "execution_count": 34,
   "id": "c7306e8a-b078-44cb-86fe-1df8d09177b6",
   "metadata": {},
   "outputs": [],
   "source": [
    "X = df.drop(['y'],axis=1)"
   ]
  },
  {
   "cell_type": "code",
   "execution_count": 35,
   "id": "b71f83dd-c4da-41aa-a385-a32dc44e8c86",
   "metadata": {},
   "outputs": [],
   "source": [
    "y = df['y']"
   ]
  },
  {
   "cell_type": "code",
   "execution_count": 36,
   "id": "e911ebf6-5e7a-434b-9b68-caa206a376c7",
   "metadata": {},
   "outputs": [
    {
     "data": {
      "text/plain": [
       "(4119, 54)"
      ]
     },
     "execution_count": 36,
     "metadata": {},
     "output_type": "execute_result"
    }
   ],
   "source": [
    "X.shape"
   ]
  },
  {
   "cell_type": "code",
   "execution_count": 37,
   "id": "ae703d09-ec7d-4185-abf6-0e99a83e49bf",
   "metadata": {},
   "outputs": [
    {
     "data": {
      "text/plain": [
       "(4119,)"
      ]
     },
     "execution_count": 37,
     "metadata": {},
     "output_type": "execute_result"
    }
   ],
   "source": [
    "y.shape"
   ]
  },
  {
   "cell_type": "code",
   "execution_count": 38,
   "id": "cf920fa5-8204-427f-8736-db32e6498074",
   "metadata": {},
   "outputs": [],
   "source": [
    "from sklearn.model_selection import train_test_split\n",
    "\n",
    "X_train,X_test,y_train,y_test = train_test_split(X,y,test_size=0.2,random_state=0)"
   ]
  },
  {
   "cell_type": "code",
   "execution_count": 39,
   "id": "ee38861f-d64e-4fad-9fd2-447bfa4872ae",
   "metadata": {},
   "outputs": [
    {
     "data": {
      "text/plain": [
       "(3295, 54)"
      ]
     },
     "execution_count": 39,
     "metadata": {},
     "output_type": "execute_result"
    }
   ],
   "source": [
    "X_train.shape"
   ]
  },
  {
   "cell_type": "code",
   "execution_count": 40,
   "id": "788b3ffc-a98c-4498-954d-90e7e3d71101",
   "metadata": {},
   "outputs": [
    {
     "data": {
      "text/plain": [
       "(824, 54)"
      ]
     },
     "execution_count": 40,
     "metadata": {},
     "output_type": "execute_result"
    }
   ],
   "source": [
    "X_test.shape"
   ]
  },
  {
   "cell_type": "code",
   "execution_count": 41,
   "id": "49022d1a-cf06-4bfd-9fd2-786054cbe3fe",
   "metadata": {},
   "outputs": [],
   "source": [
    "cols = X_train.columns"
   ]
  },
  {
   "cell_type": "code",
   "execution_count": 42,
   "id": "ffdea32b-6749-4d7a-9549-e78c742aaebd",
   "metadata": {},
   "outputs": [
    {
     "data": {
      "text/html": [
       "<div>\n",
       "<style scoped>\n",
       "    .dataframe tbody tr th:only-of-type {\n",
       "        vertical-align: middle;\n",
       "    }\n",
       "\n",
       "    .dataframe tbody tr th {\n",
       "        vertical-align: top;\n",
       "    }\n",
       "\n",
       "    .dataframe thead th {\n",
       "        text-align: right;\n",
       "    }\n",
       "</style>\n",
       "<table border=\"1\" class=\"dataframe\">\n",
       "  <thead>\n",
       "    <tr style=\"text-align: right;\">\n",
       "      <th></th>\n",
       "      <th>age</th>\n",
       "      <th>campaign</th>\n",
       "      <th>pdays</th>\n",
       "      <th>previous</th>\n",
       "      <th>emp.var.rate</th>\n",
       "      <th>cons.price.idx</th>\n",
       "      <th>cons.conf.idx</th>\n",
       "      <th>euribor3m</th>\n",
       "      <th>nr.employed</th>\n",
       "    </tr>\n",
       "  </thead>\n",
       "  <tbody>\n",
       "    <tr>\n",
       "      <th>3199</th>\n",
       "      <td>30</td>\n",
       "      <td>2</td>\n",
       "      <td>999</td>\n",
       "      <td>0</td>\n",
       "      <td>1.1</td>\n",
       "      <td>93.994</td>\n",
       "      <td>-36.4</td>\n",
       "      <td>4.856</td>\n",
       "      <td>5191.0</td>\n",
       "    </tr>\n",
       "    <tr>\n",
       "      <th>3258</th>\n",
       "      <td>42</td>\n",
       "      <td>2</td>\n",
       "      <td>999</td>\n",
       "      <td>0</td>\n",
       "      <td>1.4</td>\n",
       "      <td>93.444</td>\n",
       "      <td>-36.1</td>\n",
       "      <td>4.968</td>\n",
       "      <td>5228.1</td>\n",
       "    </tr>\n",
       "    <tr>\n",
       "      <th>3153</th>\n",
       "      <td>48</td>\n",
       "      <td>1</td>\n",
       "      <td>999</td>\n",
       "      <td>0</td>\n",
       "      <td>-0.1</td>\n",
       "      <td>93.200</td>\n",
       "      <td>-42.0</td>\n",
       "      <td>4.191</td>\n",
       "      <td>5195.8</td>\n",
       "    </tr>\n",
       "    <tr>\n",
       "      <th>399</th>\n",
       "      <td>30</td>\n",
       "      <td>2</td>\n",
       "      <td>999</td>\n",
       "      <td>1</td>\n",
       "      <td>-0.1</td>\n",
       "      <td>93.200</td>\n",
       "      <td>-42.0</td>\n",
       "      <td>4.021</td>\n",
       "      <td>5195.8</td>\n",
       "    </tr>\n",
       "    <tr>\n",
       "      <th>1410</th>\n",
       "      <td>28</td>\n",
       "      <td>1</td>\n",
       "      <td>999</td>\n",
       "      <td>0</td>\n",
       "      <td>-1.8</td>\n",
       "      <td>92.893</td>\n",
       "      <td>-46.2</td>\n",
       "      <td>1.291</td>\n",
       "      <td>5099.1</td>\n",
       "    </tr>\n",
       "    <tr>\n",
       "      <th>...</th>\n",
       "      <td>...</td>\n",
       "      <td>...</td>\n",
       "      <td>...</td>\n",
       "      <td>...</td>\n",
       "      <td>...</td>\n",
       "      <td>...</td>\n",
       "      <td>...</td>\n",
       "      <td>...</td>\n",
       "      <td>...</td>\n",
       "    </tr>\n",
       "    <tr>\n",
       "      <th>1033</th>\n",
       "      <td>50</td>\n",
       "      <td>17</td>\n",
       "      <td>999</td>\n",
       "      <td>0</td>\n",
       "      <td>1.4</td>\n",
       "      <td>94.465</td>\n",
       "      <td>-41.8</td>\n",
       "      <td>4.961</td>\n",
       "      <td>5228.1</td>\n",
       "    </tr>\n",
       "    <tr>\n",
       "      <th>3264</th>\n",
       "      <td>45</td>\n",
       "      <td>3</td>\n",
       "      <td>999</td>\n",
       "      <td>0</td>\n",
       "      <td>1.4</td>\n",
       "      <td>93.918</td>\n",
       "      <td>-42.7</td>\n",
       "      <td>4.961</td>\n",
       "      <td>5228.1</td>\n",
       "    </tr>\n",
       "    <tr>\n",
       "      <th>1653</th>\n",
       "      <td>27</td>\n",
       "      <td>2</td>\n",
       "      <td>999</td>\n",
       "      <td>0</td>\n",
       "      <td>-2.9</td>\n",
       "      <td>92.201</td>\n",
       "      <td>-31.4</td>\n",
       "      <td>0.879</td>\n",
       "      <td>5076.2</td>\n",
       "    </tr>\n",
       "    <tr>\n",
       "      <th>2607</th>\n",
       "      <td>56</td>\n",
       "      <td>3</td>\n",
       "      <td>999</td>\n",
       "      <td>0</td>\n",
       "      <td>1.4</td>\n",
       "      <td>93.918</td>\n",
       "      <td>-42.7</td>\n",
       "      <td>4.962</td>\n",
       "      <td>5228.1</td>\n",
       "    </tr>\n",
       "    <tr>\n",
       "      <th>2732</th>\n",
       "      <td>32</td>\n",
       "      <td>4</td>\n",
       "      <td>999</td>\n",
       "      <td>0</td>\n",
       "      <td>1.4</td>\n",
       "      <td>93.444</td>\n",
       "      <td>-36.1</td>\n",
       "      <td>4.966</td>\n",
       "      <td>5228.1</td>\n",
       "    </tr>\n",
       "  </tbody>\n",
       "</table>\n",
       "<p>3295 rows × 9 columns</p>\n",
       "</div>"
      ],
      "text/plain": [
       "      age  campaign  pdays  previous  emp.var.rate  cons.price.idx  \\\n",
       "3199   30         2    999         0           1.1          93.994   \n",
       "3258   42         2    999         0           1.4          93.444   \n",
       "3153   48         1    999         0          -0.1          93.200   \n",
       "399    30         2    999         1          -0.1          93.200   \n",
       "1410   28         1    999         0          -1.8          92.893   \n",
       "...   ...       ...    ...       ...           ...             ...   \n",
       "1033   50        17    999         0           1.4          94.465   \n",
       "3264   45         3    999         0           1.4          93.918   \n",
       "1653   27         2    999         0          -2.9          92.201   \n",
       "2607   56         3    999         0           1.4          93.918   \n",
       "2732   32         4    999         0           1.4          93.444   \n",
       "\n",
       "      cons.conf.idx  euribor3m  nr.employed  \n",
       "3199          -36.4      4.856       5191.0  \n",
       "3258          -36.1      4.968       5228.1  \n",
       "3153          -42.0      4.191       5195.8  \n",
       "399           -42.0      4.021       5195.8  \n",
       "1410          -46.2      1.291       5099.1  \n",
       "...             ...        ...          ...  \n",
       "1033          -41.8      4.961       5228.1  \n",
       "3264          -42.7      4.961       5228.1  \n",
       "1653          -31.4      0.879       5076.2  \n",
       "2607          -42.7      4.962       5228.1  \n",
       "2732          -36.1      4.966       5228.1  \n",
       "\n",
       "[3295 rows x 9 columns]"
      ]
     },
     "execution_count": 42,
     "metadata": {},
     "output_type": "execute_result"
    }
   ],
   "source": [
    "X_train[numeric_cols]"
   ]
  },
  {
   "cell_type": "code",
   "execution_count": 43,
   "id": "bb8170e1-b63a-49c0-be72-44d5882a9e02",
   "metadata": {},
   "outputs": [
    {
     "data": {
      "text/plain": [
       "numpy.ndarray"
      ]
     },
     "execution_count": 43,
     "metadata": {},
     "output_type": "execute_result"
    }
   ],
   "source": [
    "from sklearn.preprocessing import StandardScaler\n",
    "\n",
    "scaler = StandardScaler()\n",
    "\n",
    "X_train = scaler.fit_transform(X_train)\n",
    "\n",
    "X_test = scaler.fit_transform(X_test)\n",
    "\n",
    "type(X_train)"
   ]
  },
  {
   "cell_type": "code",
   "execution_count": 44,
   "id": "d50fda4d-c1d9-4a4f-bcb1-59b485e9b189",
   "metadata": {},
   "outputs": [],
   "source": [
    "X_train = pd.DataFrame(X_train,columns=[cols])\n",
    "X_test = pd.DataFrame(X_test,columns=[cols])"
   ]
  },
  {
   "cell_type": "code",
   "execution_count": 45,
   "id": "750fe268-bfdf-457d-975e-72bb8a5cbaab",
   "metadata": {},
   "outputs": [
    {
     "data": {
      "text/html": [
       "<div>\n",
       "<style scoped>\n",
       "    .dataframe tbody tr th:only-of-type {\n",
       "        vertical-align: middle;\n",
       "    }\n",
       "\n",
       "    .dataframe tbody tr th {\n",
       "        vertical-align: top;\n",
       "    }\n",
       "\n",
       "    .dataframe thead tr th {\n",
       "        text-align: left;\n",
       "    }\n",
       "</style>\n",
       "<table border=\"1\" class=\"dataframe\">\n",
       "  <thead>\n",
       "    <tr>\n",
       "      <th></th>\n",
       "      <th>age</th>\n",
       "      <th>default</th>\n",
       "      <th>housing</th>\n",
       "      <th>loan</th>\n",
       "      <th>campaign</th>\n",
       "      <th>pdays</th>\n",
       "      <th>previous</th>\n",
       "      <th>poutcome</th>\n",
       "      <th>emp.var.rate</th>\n",
       "      <th>cons.price.idx</th>\n",
       "      <th>...</th>\n",
       "      <th>month_mar</th>\n",
       "      <th>month_may</th>\n",
       "      <th>month_nov</th>\n",
       "      <th>month_oct</th>\n",
       "      <th>month_sep</th>\n",
       "      <th>day_of_week_fri</th>\n",
       "      <th>day_of_week_mon</th>\n",
       "      <th>day_of_week_thu</th>\n",
       "      <th>day_of_week_tue</th>\n",
       "      <th>day_of_week_wed</th>\n",
       "    </tr>\n",
       "  </thead>\n",
       "  <tbody>\n",
       "    <tr>\n",
       "      <th>0</th>\n",
       "      <td>-0.977249</td>\n",
       "      <td>0.491928</td>\n",
       "      <td>-0.917247</td>\n",
       "      <td>0.464636</td>\n",
       "      <td>-0.195607</td>\n",
       "      <td>0.204284</td>\n",
       "      <td>-0.356918</td>\n",
       "      <td>0.200672</td>\n",
       "      <td>0.656694</td>\n",
       "      <td>0.724940</td>\n",
       "      <td>...</td>\n",
       "      <td>-0.109444</td>\n",
       "      <td>1.418409</td>\n",
       "      <td>-0.355121</td>\n",
       "      <td>-0.12413</td>\n",
       "      <td>-0.126628</td>\n",
       "      <td>-0.475204</td>\n",
       "      <td>-0.514189</td>\n",
       "      <td>-0.510412</td>\n",
       "      <td>1.951978</td>\n",
       "      <td>-0.487638</td>\n",
       "    </tr>\n",
       "    <tr>\n",
       "      <th>1</th>\n",
       "      <td>0.179962</td>\n",
       "      <td>0.491928</td>\n",
       "      <td>-0.917247</td>\n",
       "      <td>0.464636</td>\n",
       "      <td>-0.195607</td>\n",
       "      <td>0.204284</td>\n",
       "      <td>-0.356918</td>\n",
       "      <td>0.200672</td>\n",
       "      <td>0.848657</td>\n",
       "      <td>-0.225414</td>\n",
       "      <td>...</td>\n",
       "      <td>-0.109444</td>\n",
       "      <td>-0.705015</td>\n",
       "      <td>-0.355121</td>\n",
       "      <td>-0.12413</td>\n",
       "      <td>-0.126628</td>\n",
       "      <td>-0.475204</td>\n",
       "      <td>-0.514189</td>\n",
       "      <td>-0.510412</td>\n",
       "      <td>1.951978</td>\n",
       "      <td>-0.487638</td>\n",
       "    </tr>\n",
       "    <tr>\n",
       "      <th>2</th>\n",
       "      <td>0.758567</td>\n",
       "      <td>0.491928</td>\n",
       "      <td>-0.917247</td>\n",
       "      <td>0.464636</td>\n",
       "      <td>-0.587892</td>\n",
       "      <td>0.204284</td>\n",
       "      <td>-0.356918</td>\n",
       "      <td>0.200672</td>\n",
       "      <td>-0.111158</td>\n",
       "      <td>-0.647026</td>\n",
       "      <td>...</td>\n",
       "      <td>-0.109444</td>\n",
       "      <td>-0.705015</td>\n",
       "      <td>2.815944</td>\n",
       "      <td>-0.12413</td>\n",
       "      <td>-0.126628</td>\n",
       "      <td>-0.475204</td>\n",
       "      <td>1.944812</td>\n",
       "      <td>-0.510412</td>\n",
       "      <td>-0.512301</td>\n",
       "      <td>-0.487638</td>\n",
       "    </tr>\n",
       "    <tr>\n",
       "      <th>3</th>\n",
       "      <td>-0.977249</td>\n",
       "      <td>0.491928</td>\n",
       "      <td>1.118677</td>\n",
       "      <td>0.464636</td>\n",
       "      <td>-0.195607</td>\n",
       "      <td>0.204284</td>\n",
       "      <td>1.495123</td>\n",
       "      <td>-2.444187</td>\n",
       "      <td>-0.111158</td>\n",
       "      <td>-0.647026</td>\n",
       "      <td>...</td>\n",
       "      <td>-0.109444</td>\n",
       "      <td>-0.705015</td>\n",
       "      <td>2.815944</td>\n",
       "      <td>-0.12413</td>\n",
       "      <td>-0.126628</td>\n",
       "      <td>2.104361</td>\n",
       "      <td>-0.514189</td>\n",
       "      <td>-0.510412</td>\n",
       "      <td>-0.512301</td>\n",
       "      <td>-0.487638</td>\n",
       "    </tr>\n",
       "    <tr>\n",
       "      <th>4</th>\n",
       "      <td>-1.170117</td>\n",
       "      <td>0.491928</td>\n",
       "      <td>1.118677</td>\n",
       "      <td>0.464636</td>\n",
       "      <td>-0.587892</td>\n",
       "      <td>0.204284</td>\n",
       "      <td>-0.356918</td>\n",
       "      <td>0.200672</td>\n",
       "      <td>-1.198948</td>\n",
       "      <td>-1.177496</td>\n",
       "      <td>...</td>\n",
       "      <td>-0.109444</td>\n",
       "      <td>1.418409</td>\n",
       "      <td>-0.355121</td>\n",
       "      <td>-0.12413</td>\n",
       "      <td>-0.126628</td>\n",
       "      <td>-0.475204</td>\n",
       "      <td>-0.514189</td>\n",
       "      <td>-0.510412</td>\n",
       "      <td>1.951978</td>\n",
       "      <td>-0.487638</td>\n",
       "    </tr>\n",
       "    <tr>\n",
       "      <th>...</th>\n",
       "      <td>...</td>\n",
       "      <td>...</td>\n",
       "      <td>...</td>\n",
       "      <td>...</td>\n",
       "      <td>...</td>\n",
       "      <td>...</td>\n",
       "      <td>...</td>\n",
       "      <td>...</td>\n",
       "      <td>...</td>\n",
       "      <td>...</td>\n",
       "      <td>...</td>\n",
       "      <td>...</td>\n",
       "      <td>...</td>\n",
       "      <td>...</td>\n",
       "      <td>...</td>\n",
       "      <td>...</td>\n",
       "      <td>...</td>\n",
       "      <td>...</td>\n",
       "      <td>...</td>\n",
       "      <td>...</td>\n",
       "      <td>...</td>\n",
       "    </tr>\n",
       "    <tr>\n",
       "      <th>3290</th>\n",
       "      <td>0.951435</td>\n",
       "      <td>-2.025002</td>\n",
       "      <td>1.118677</td>\n",
       "      <td>0.464636</td>\n",
       "      <td>5.688668</td>\n",
       "      <td>0.204284</td>\n",
       "      <td>-0.356918</td>\n",
       "      <td>0.200672</td>\n",
       "      <td>0.848657</td>\n",
       "      <td>1.538789</td>\n",
       "      <td>...</td>\n",
       "      <td>-0.109444</td>\n",
       "      <td>-0.705015</td>\n",
       "      <td>-0.355121</td>\n",
       "      <td>-0.12413</td>\n",
       "      <td>-0.126628</td>\n",
       "      <td>-0.475204</td>\n",
       "      <td>1.944812</td>\n",
       "      <td>-0.510412</td>\n",
       "      <td>-0.512301</td>\n",
       "      <td>-0.487638</td>\n",
       "    </tr>\n",
       "    <tr>\n",
       "      <th>3291</th>\n",
       "      <td>0.469264</td>\n",
       "      <td>-2.025002</td>\n",
       "      <td>-0.917247</td>\n",
       "      <td>-2.252268</td>\n",
       "      <td>0.196678</td>\n",
       "      <td>0.204284</td>\n",
       "      <td>-0.356918</td>\n",
       "      <td>0.200672</td>\n",
       "      <td>0.848657</td>\n",
       "      <td>0.593618</td>\n",
       "      <td>...</td>\n",
       "      <td>-0.109444</td>\n",
       "      <td>-0.705015</td>\n",
       "      <td>-0.355121</td>\n",
       "      <td>-0.12413</td>\n",
       "      <td>-0.126628</td>\n",
       "      <td>-0.475204</td>\n",
       "      <td>-0.514189</td>\n",
       "      <td>-0.510412</td>\n",
       "      <td>1.951978</td>\n",
       "      <td>-0.487638</td>\n",
       "    </tr>\n",
       "    <tr>\n",
       "      <th>3292</th>\n",
       "      <td>-1.266551</td>\n",
       "      <td>0.491928</td>\n",
       "      <td>-0.917247</td>\n",
       "      <td>0.464636</td>\n",
       "      <td>-0.195607</td>\n",
       "      <td>0.204284</td>\n",
       "      <td>-0.356918</td>\n",
       "      <td>0.200672</td>\n",
       "      <td>-1.902812</td>\n",
       "      <td>-2.373214</td>\n",
       "      <td>...</td>\n",
       "      <td>-0.109444</td>\n",
       "      <td>-0.705015</td>\n",
       "      <td>-0.355121</td>\n",
       "      <td>-0.12413</td>\n",
       "      <td>-0.126628</td>\n",
       "      <td>-0.475204</td>\n",
       "      <td>-0.514189</td>\n",
       "      <td>-0.510412</td>\n",
       "      <td>-0.512301</td>\n",
       "      <td>2.050700</td>\n",
       "    </tr>\n",
       "    <tr>\n",
       "      <th>3293</th>\n",
       "      <td>1.530041</td>\n",
       "      <td>0.491928</td>\n",
       "      <td>-0.917247</td>\n",
       "      <td>-2.252268</td>\n",
       "      <td>0.196678</td>\n",
       "      <td>0.204284</td>\n",
       "      <td>-0.356918</td>\n",
       "      <td>0.200672</td>\n",
       "      <td>0.848657</td>\n",
       "      <td>0.593618</td>\n",
       "      <td>...</td>\n",
       "      <td>-0.109444</td>\n",
       "      <td>-0.705015</td>\n",
       "      <td>-0.355121</td>\n",
       "      <td>-0.12413</td>\n",
       "      <td>-0.126628</td>\n",
       "      <td>-0.475204</td>\n",
       "      <td>1.944812</td>\n",
       "      <td>-0.510412</td>\n",
       "      <td>-0.512301</td>\n",
       "      <td>-0.487638</td>\n",
       "    </tr>\n",
       "    <tr>\n",
       "      <th>3294</th>\n",
       "      <td>-0.784380</td>\n",
       "      <td>0.491928</td>\n",
       "      <td>-0.917247</td>\n",
       "      <td>0.464636</td>\n",
       "      <td>0.588963</td>\n",
       "      <td>0.204284</td>\n",
       "      <td>-0.356918</td>\n",
       "      <td>0.200672</td>\n",
       "      <td>0.848657</td>\n",
       "      <td>-0.225414</td>\n",
       "      <td>...</td>\n",
       "      <td>-0.109444</td>\n",
       "      <td>-0.705015</td>\n",
       "      <td>-0.355121</td>\n",
       "      <td>-0.12413</td>\n",
       "      <td>-0.126628</td>\n",
       "      <td>-0.475204</td>\n",
       "      <td>-0.514189</td>\n",
       "      <td>-0.510412</td>\n",
       "      <td>1.951978</td>\n",
       "      <td>-0.487638</td>\n",
       "    </tr>\n",
       "  </tbody>\n",
       "</table>\n",
       "<p>3295 rows × 54 columns</p>\n",
       "</div>"
      ],
      "text/plain": [
       "           age   default   housing      loan  campaign     pdays  previous  \\\n",
       "0    -0.977249  0.491928 -0.917247  0.464636 -0.195607  0.204284 -0.356918   \n",
       "1     0.179962  0.491928 -0.917247  0.464636 -0.195607  0.204284 -0.356918   \n",
       "2     0.758567  0.491928 -0.917247  0.464636 -0.587892  0.204284 -0.356918   \n",
       "3    -0.977249  0.491928  1.118677  0.464636 -0.195607  0.204284  1.495123   \n",
       "4    -1.170117  0.491928  1.118677  0.464636 -0.587892  0.204284 -0.356918   \n",
       "...        ...       ...       ...       ...       ...       ...       ...   \n",
       "3290  0.951435 -2.025002  1.118677  0.464636  5.688668  0.204284 -0.356918   \n",
       "3291  0.469264 -2.025002 -0.917247 -2.252268  0.196678  0.204284 -0.356918   \n",
       "3292 -1.266551  0.491928 -0.917247  0.464636 -0.195607  0.204284 -0.356918   \n",
       "3293  1.530041  0.491928 -0.917247 -2.252268  0.196678  0.204284 -0.356918   \n",
       "3294 -0.784380  0.491928 -0.917247  0.464636  0.588963  0.204284 -0.356918   \n",
       "\n",
       "      poutcome emp.var.rate cons.price.idx  ... month_mar month_may month_nov  \\\n",
       "0     0.200672     0.656694       0.724940  ... -0.109444  1.418409 -0.355121   \n",
       "1     0.200672     0.848657      -0.225414  ... -0.109444 -0.705015 -0.355121   \n",
       "2     0.200672    -0.111158      -0.647026  ... -0.109444 -0.705015  2.815944   \n",
       "3    -2.444187    -0.111158      -0.647026  ... -0.109444 -0.705015  2.815944   \n",
       "4     0.200672    -1.198948      -1.177496  ... -0.109444  1.418409 -0.355121   \n",
       "...        ...          ...            ...  ...       ...       ...       ...   \n",
       "3290  0.200672     0.848657       1.538789  ... -0.109444 -0.705015 -0.355121   \n",
       "3291  0.200672     0.848657       0.593618  ... -0.109444 -0.705015 -0.355121   \n",
       "3292  0.200672    -1.902812      -2.373214  ... -0.109444 -0.705015 -0.355121   \n",
       "3293  0.200672     0.848657       0.593618  ... -0.109444 -0.705015 -0.355121   \n",
       "3294  0.200672     0.848657      -0.225414  ... -0.109444 -0.705015 -0.355121   \n",
       "\n",
       "     month_oct month_sep day_of_week_fri day_of_week_mon day_of_week_thu  \\\n",
       "0     -0.12413 -0.126628       -0.475204       -0.514189       -0.510412   \n",
       "1     -0.12413 -0.126628       -0.475204       -0.514189       -0.510412   \n",
       "2     -0.12413 -0.126628       -0.475204        1.944812       -0.510412   \n",
       "3     -0.12413 -0.126628        2.104361       -0.514189       -0.510412   \n",
       "4     -0.12413 -0.126628       -0.475204       -0.514189       -0.510412   \n",
       "...        ...       ...             ...             ...             ...   \n",
       "3290  -0.12413 -0.126628       -0.475204        1.944812       -0.510412   \n",
       "3291  -0.12413 -0.126628       -0.475204       -0.514189       -0.510412   \n",
       "3292  -0.12413 -0.126628       -0.475204       -0.514189       -0.510412   \n",
       "3293  -0.12413 -0.126628       -0.475204        1.944812       -0.510412   \n",
       "3294  -0.12413 -0.126628       -0.475204       -0.514189       -0.510412   \n",
       "\n",
       "     day_of_week_tue day_of_week_wed  \n",
       "0           1.951978       -0.487638  \n",
       "1           1.951978       -0.487638  \n",
       "2          -0.512301       -0.487638  \n",
       "3          -0.512301       -0.487638  \n",
       "4           1.951978       -0.487638  \n",
       "...              ...             ...  \n",
       "3290       -0.512301       -0.487638  \n",
       "3291        1.951978       -0.487638  \n",
       "3292       -0.512301        2.050700  \n",
       "3293       -0.512301       -0.487638  \n",
       "3294        1.951978       -0.487638  \n",
       "\n",
       "[3295 rows x 54 columns]"
      ]
     },
     "execution_count": 45,
     "metadata": {},
     "output_type": "execute_result"
    }
   ],
   "source": [
    "X_train[cols]"
   ]
  },
  {
   "cell_type": "markdown",
   "id": "28393cb1-b709-4f2f-96d2-477727b84638",
   "metadata": {},
   "source": [
    "#SVM"
   ]
  },
  {
   "cell_type": "code",
   "execution_count": 46,
   "id": "3c77229b-cdb7-499f-a320-f2d2db5f0398",
   "metadata": {},
   "outputs": [],
   "source": [
    "from sklearn.svm import SVC"
   ]
  },
  {
   "cell_type": "code",
   "execution_count": 47,
   "id": "b6302bca-133f-4794-9bc2-6bd55482699b",
   "metadata": {},
   "outputs": [],
   "source": [
    "from sklearn.metrics import accuracy_score\n",
    "from sklearn.metrics import classification_report\n",
    "from sklearn.metrics import roc_auc_score"
   ]
  },
  {
   "cell_type": "code",
   "execution_count": 48,
   "id": "b310ef75-d80c-47a6-93ec-51515f493be7",
   "metadata": {},
   "outputs": [],
   "source": [
    "svc = SVC()"
   ]
  },
  {
   "cell_type": "code",
   "execution_count": 49,
   "id": "2054ef33-69fa-43a5-aec2-a93bc0adab1d",
   "metadata": {},
   "outputs": [
    {
     "data": {
      "text/plain": [
       "SVC()"
      ]
     },
     "execution_count": 49,
     "metadata": {},
     "output_type": "execute_result"
    }
   ],
   "source": [
    "svc.fit(X_train,y_train)"
   ]
  },
  {
   "cell_type": "code",
   "execution_count": 50,
   "id": "eed150c2-d317-4abe-af7d-463a141fd32b",
   "metadata": {},
   "outputs": [],
   "source": [
    "y_pred = svc.predict(X_test)"
   ]
  },
  {
   "cell_type": "code",
   "execution_count": 51,
   "id": "19ca4ccb-f61f-4504-868b-c6805193ee36",
   "metadata": {},
   "outputs": [
    {
     "name": "stdout",
     "output_type": "stream",
     "text": [
      "Accuracy Score by Default Hyperparametes 0.9053398058252428\n"
     ]
    }
   ],
   "source": [
    "print(f'Accuracy Score by Default Hyperparametes {accuracy_score(y_test,y_pred)}')"
   ]
  },
  {
   "cell_type": "code",
   "execution_count": 52,
   "id": "dfa5cd48-01a9-44f4-b45a-bf153da13f63",
   "metadata": {},
   "outputs": [
    {
     "name": "stdout",
     "output_type": "stream",
     "text": [
      "              precision    recall  f1-score   support\n",
      "\n",
      "           0       0.92      0.98      0.95       748\n",
      "           1       0.46      0.17      0.25        76\n",
      "\n",
      "    accuracy                           0.91       824\n",
      "   macro avg       0.69      0.58      0.60       824\n",
      "weighted avg       0.88      0.91      0.88       824\n",
      "\n"
     ]
    }
   ],
   "source": [
    "print(classification_report(y_test,y_pred))"
   ]
  },
  {
   "cell_type": "code",
   "execution_count": 53,
   "id": "5fdd8162-9d7b-4bd4-9c1b-13c0abf02e42",
   "metadata": {},
   "outputs": [
    {
     "name": "stdout",
     "output_type": "stream",
     "text": [
      "ROC-AUC by Default Hyperparametes 0.5754995778215592\n"
     ]
    }
   ],
   "source": [
    "print(f'ROC-AUC by Default Hyperparametes {roc_auc_score(y_test,y_pred)}')"
   ]
  },
  {
   "cell_type": "code",
   "execution_count": 54,
   "id": "e5911931-32e8-4296-b51f-70d9099f9dbf",
   "metadata": {},
   "outputs": [
    {
     "name": "stdout",
     "output_type": "stream",
     "text": [
      "ROC-AUC Score by RBF Kernel and C=100: 0.6408668730650154\n"
     ]
    }
   ],
   "source": [
    "svc = SVC(C=100)\n",
    "\n",
    "svc.fit(X_train,y_train)\n",
    "\n",
    "y_pred = svc.predict(X_test)\n",
    "\n",
    "print(f'ROC-AUC Score by RBF Kernel and C=100: {roc_auc_score(y_test,y_pred)}')"
   ]
  },
  {
   "cell_type": "code",
   "execution_count": 56,
   "id": "40ac48d7-cf7c-4dc3-8946-a2ec2a851c6d",
   "metadata": {
    "tags": []
   },
   "outputs": [
    {
     "name": "stdout",
     "output_type": "stream",
     "text": [
      "Fitting 5 folds for each of 30 candidates, totalling 150 fits\n"
     ]
    },
    {
     "data": {
      "text/plain": [
       "GridSearchCV(cv=5, estimator=SVC(), n_jobs=4,\n",
       "             param_grid=[{'C': [0.1, 1, 10, 100, 1000],\n",
       "                          'gamma': ['scale', 'auto', 0.001, 0.01, 0.1, 0.9],\n",
       "                          'kernel': ['rbf']}],\n",
       "             scoring='balanced_accuracy', verbose=1)"
      ]
     },
     "execution_count": 56,
     "metadata": {},
     "output_type": "execute_result"
    }
   ],
   "source": [
    "from sklearn.svm import SVC\n",
    "from sklearn.model_selection import GridSearchCV\n",
    "\n",
    "svc_grid = SVC()\n",
    "\n",
    "parameters = [{'C':[0.1, 1, 10, 100, 1000], 'kernel':['rbf'], 'gamma':['scale','auto', 0.001, 0.01, 0.1, 0.9]}}]\n",
    "\n",
    "grid_search = GridSearchCV(estimator = svc_grid,\n",
    "                           param_grid = parameters,\n",
    "                           scoring = 'balanced_accuracy',\n",
    "                           cv = 5,\n",
    "                           verbose=1, \n",
    "                           n_jobs=4)\n",
    "\n",
    "grid_search.fit(X_train.values, y_train.values)"
   ]
  },
  {
   "cell_type": "code",
   "execution_count": 63,
   "id": "2702b9be-eace-4a44-bbf0-20e94193621c",
   "metadata": {},
   "outputs": [
    {
     "name": "stdout",
     "output_type": "stream",
     "text": [
      "GridSearch CV best score : 0.6430\n",
      "\n",
      "Best result giver parameters: \n",
      " {'C': 1000, 'gamma': 0.001, 'kernel': 'rbf'}\n",
      "\n",
      "Selected Estimator: \n",
      " SVC(C=1000, gamma=0.001)\n"
     ]
    }
   ],
   "source": [
    "\n",
    "print('GridSearch CV best score : {:.4f}\\n'.format(grid_search.best_score_))\n",
    "\n",
    "print ('Best result giver parameters: \\n',(grid_search.best_params_))\n",
    "\n",
    "print('\\nSelected Estimator:', '\\n',(grid_search.best_estimator_))"
   ]
  },
  {
   "cell_type": "code",
   "execution_count": 64,
   "id": "c6f97138-a071-4f03-bd11-62c5d00ea1bc",
   "metadata": {},
   "outputs": [
    {
     "data": {
      "text/plain": [
       "{'C': 1000, 'gamma': 0.001, 'kernel': 'rbf'}"
      ]
     },
     "execution_count": 64,
     "metadata": {},
     "output_type": "execute_result"
    }
   ],
   "source": [
    "best = grid_search.best_params_\n",
    "best"
   ]
  },
  {
   "cell_type": "code",
   "execution_count": 65,
   "id": "8b121d08-8211-40bc-8d49-11c8a9327647",
   "metadata": {},
   "outputs": [
    {
     "data": {
      "text/plain": [
       "1000"
      ]
     },
     "execution_count": 65,
     "metadata": {},
     "output_type": "execute_result"
    }
   ],
   "source": [
    "best_C = best['C']\n",
    "best_C"
   ]
  },
  {
   "cell_type": "code",
   "execution_count": 66,
   "id": "f0a06d8f-50b3-4163-83a3-fd66aa387c68",
   "metadata": {},
   "outputs": [
    {
     "data": {
      "text/plain": [
       "'rbf'"
      ]
     },
     "execution_count": 66,
     "metadata": {},
     "output_type": "execute_result"
    }
   ],
   "source": [
    "best_kernel = best['kernel']\n",
    "best_kernel"
   ]
  },
  {
   "cell_type": "code",
   "execution_count": 67,
   "id": "d8f9fb84-2d1c-4055-8565-e1ea31867ba1",
   "metadata": {},
   "outputs": [
    {
     "data": {
      "text/plain": [
       "0.001"
      ]
     },
     "execution_count": 67,
     "metadata": {},
     "output_type": "execute_result"
    }
   ],
   "source": [
    "best_gamma = best['gamma']\n",
    "best_gamma"
   ]
  },
  {
   "cell_type": "code",
   "execution_count": 68,
   "id": "37d3a973-77d0-49a7-86c0-88acda78ecc5",
   "metadata": {},
   "outputs": [
    {
     "name": "stdout",
     "output_type": "stream",
     "text": [
      "{'C': 1000, 'gamma': 0.001, 'kernel': 'rbf'}\n",
      "by ROC-AUC score: 0.62\n"
     ]
    }
   ],
   "source": [
    "# En iyi sonucu veren Parametreler :\n",
    "svc_best = SVC(C=best_C, kernel=best_kernel, gamma=best_gamma)\n",
    "\n",
    "svc_best.fit(X_train,y_train)\n",
    "\n",
    "y_pred_best = svc_best.predict(X_test)\n",
    "\n",
    "print(best)\n",
    "print('by ROC-AUC score: {0:0.2f}'.format (roc_auc_score (y_test, y_pred_best)))"
   ]
  },
  {
   "cell_type": "code",
   "execution_count": 69,
   "id": "444a93cf-9a2f-4e98-862d-342ad3465ae8",
   "metadata": {},
   "outputs": [
    {
     "data": {
      "text/plain": [
       "{'C': 1000,\n",
       " 'break_ties': False,\n",
       " 'cache_size': 200,\n",
       " 'class_weight': None,\n",
       " 'coef0': 0.0,\n",
       " 'decision_function_shape': 'ovr',\n",
       " 'degree': 3,\n",
       " 'gamma': 0.001,\n",
       " 'kernel': 'rbf',\n",
       " 'max_iter': -1,\n",
       " 'probability': False,\n",
       " 'random_state': None,\n",
       " 'shrinking': True,\n",
       " 'tol': 0.001,\n",
       " 'verbose': False}"
      ]
     },
     "execution_count": 69,
     "metadata": {},
     "output_type": "execute_result"
    }
   ],
   "source": [
    "svc_best.get_params()"
   ]
  },
  {
   "cell_type": "code",
   "execution_count": null,
   "id": "dc76f328-d028-4a74-af61-d250d3a593b6",
   "metadata": {},
   "outputs": [],
   "source": []
  }
 ],
 "metadata": {
  "kernelspec": {
   "display_name": "Python 3 (ipykernel)",
   "language": "python",
   "name": "python3"
  },
  "language_info": {
   "codemirror_mode": {
    "name": "ipython",
    "version": 3
   },
   "file_extension": ".py",
   "mimetype": "text/x-python",
   "name": "python",
   "nbconvert_exporter": "python",
   "pygments_lexer": "ipython3",
   "version": "3.9.13"
  }
 },
 "nbformat": 4,
 "nbformat_minor": 5
}
