{
 "cells": [
  {
   "cell_type": "code",
   "execution_count": 1,
   "id": "67742a8f-1b21-42b5-b9d6-8d2cf8d21317",
   "metadata": {},
   "outputs": [
    {
     "ename": "ModuleNotFoundError",
     "evalue": "No module named 'webdriver_manager'",
     "output_type": "error",
     "traceback": [
      "\u001b[0;31m---------------------------------------------------------------------------\u001b[0m",
      "\u001b[0;31mModuleNotFoundError\u001b[0m                       Traceback (most recent call last)",
      "\u001b[0;32m/var/folders/nl/xnyy7lh56yb9tj8md3tk380h0000gn/T/ipykernel_89679/1586718802.py\u001b[0m in \u001b[0;36m<module>\u001b[0;34m\u001b[0m\n\u001b[1;32m      3\u001b[0m \u001b[0;32mfrom\u001b[0m \u001b[0mselenium\u001b[0m \u001b[0;32mimport\u001b[0m \u001b[0mwebdriver\u001b[0m\u001b[0;34m\u001b[0m\u001b[0;34m\u001b[0m\u001b[0m\n\u001b[1;32m      4\u001b[0m \u001b[0;32mfrom\u001b[0m \u001b[0mselenium\u001b[0m\u001b[0;34m.\u001b[0m\u001b[0mwebdriver\u001b[0m\u001b[0;34m.\u001b[0m\u001b[0mchrome\u001b[0m\u001b[0;34m.\u001b[0m\u001b[0mservice\u001b[0m \u001b[0;32mimport\u001b[0m \u001b[0mService\u001b[0m\u001b[0;34m\u001b[0m\u001b[0;34m\u001b[0m\u001b[0m\n\u001b[0;32m----> 5\u001b[0;31m \u001b[0;32mfrom\u001b[0m \u001b[0mwebdriver_manager\u001b[0m\u001b[0;34m.\u001b[0m\u001b[0mchrome\u001b[0m \u001b[0;32mimport\u001b[0m \u001b[0mChromeDriverManager\u001b[0m\u001b[0;34m\u001b[0m\u001b[0;34m\u001b[0m\u001b[0m\n\u001b[0m\u001b[1;32m      6\u001b[0m \u001b[0;32mfrom\u001b[0m \u001b[0mselenium\u001b[0m\u001b[0;34m.\u001b[0m\u001b[0mwebdriver\u001b[0m\u001b[0;34m.\u001b[0m\u001b[0mcommon\u001b[0m\u001b[0;34m.\u001b[0m\u001b[0mby\u001b[0m \u001b[0;32mimport\u001b[0m \u001b[0mBy\u001b[0m\u001b[0;34m\u001b[0m\u001b[0;34m\u001b[0m\u001b[0m\n\u001b[1;32m      7\u001b[0m \u001b[0;32mfrom\u001b[0m \u001b[0mselenium\u001b[0m \u001b[0;32mimport\u001b[0m \u001b[0mwebdriver\u001b[0m\u001b[0;34m\u001b[0m\u001b[0;34m\u001b[0m\u001b[0m\n",
      "\u001b[0;31mModuleNotFoundError\u001b[0m: No module named 'webdriver_manager'"
     ]
    }
   ],
   "source": [
    "import datetime\n",
    "from time import sleep\n",
    "from selenium import webdriver\n",
    "from selenium.webdriver.chrome.service import Service\n",
    "from webdriver_manager.chrome import ChromeDriverManager\n",
    "from selenium.webdriver.common.by import By\n",
    "from selenium import webdriver\n",
    "import chromedriver_autoinstaller\n",
    "\n",
    "chromedriver_autoinstaller.install(cwd=True)\n",
    "\n",
    "#Driver'a bağlanıp puan kontrol sayfasına erişim\n",
    "\n",
    "driver.get(\"https://streamelements.com/roshtein/leaderboard\")\n",
    "\n",
    "#Tarih alıp dosya oluşturma\n",
    "date = datetime.date.today().strftime(\"%d%m%Y\")\n",
    "file = open(\"/Users/m_canfirat/Desktop/{}.txt\".format(date), mode=\"w\")\n",
    "\n",
    "#Kontrol edilecek kullanici adlarini listeye ekleme\n",
    "dosya = '/Users/m_canfirat/Library/Mobile Documents/iCloud~dk~simonbs~Scriptable/Documents/hesaplar.txt'\n",
    "hesaplar = []\n",
    "with open(dosya) as file:\n",
    "    for line in file:\n",
    "        hesaplar.append(line)\n",
    "\n",
    "#Hesapların tek tek girilip puanları dosyaya yazdırma\n",
    "for i in range(hesaplar.__len__()):\n",
    "    account = hesaplar[i]\n",
    "    sleep(0.5)\n",
    "    #Arama çubuğuna hesabın adını yazma\n",
    "    driver.find_element(By.XPATH, \"//input[@name=\\\"search\\\"]\").send_keys(account)\n",
    "    sleep(0.5)\n",
    "    #Search butonu\n",
    "    searchbtn = driver.find_element(By.XPATH, \"//button[@class='md-primary md-button md-dark-theme md-ink-ripple' and @type='submit']\")\n",
    "    searchbtn.click()\n",
    "    sleep(0.2)\n",
    "    searchbtn.click()\n",
    "    sleep(0.6)\n",
    "    #Guncel puan\n",
    "    sleep(1)\n",
    "    point = driver.find_element(By.XPATH, \"//html/body/div[1]/div/md-content/div[1]/div[2]/md-card[1]/div/div[3]/h3\")\n",
    "    sleep(0.5)\n",
    "    #Arama çubuğunu temizleme\n",
    "    driver.find_element(By.XPATH, \"//input[@name=\\\"search\\\"]\").clear()\n",
    "    sleep(0.5)\n",
    "    #Hesap adı ve puanı dosyaya yazma\n",
    "    file = open(\"/Users/m_canfirat/Desktop/{}.txt\".format(date), \"a\")\n",
    "    file.write(str(account))\n",
    "    file.write(str(point.get_attribute(\"innerHTML\"))+\"\\n\\n\")\n",
    "    sleep(0.5)\n",
    "file.close()"
   ]
  },
  {
   "cell_type": "code",
   "execution_count": null,
   "id": "a1f8eb79-a179-46b7-89e1-a7d96598c38c",
   "metadata": {},
   "outputs": [],
   "source": []
  }
 ],
 "metadata": {
  "kernelspec": {
   "display_name": "Python 3 (ipykernel)",
   "language": "python",
   "name": "python3"
  },
  "language_info": {
   "codemirror_mode": {
    "name": "ipython",
    "version": 3
   },
   "file_extension": ".py",
   "mimetype": "text/x-python",
   "name": "python",
   "nbconvert_exporter": "python",
   "pygments_lexer": "ipython3",
   "version": "3.9.12"
  }
 },
 "nbformat": 4,
 "nbformat_minor": 5
}
